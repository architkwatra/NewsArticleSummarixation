{
  "nbformat": 4,
  "nbformat_minor": 0,
  "metadata": {
    "colab": {
      "name": "ALDA_preprocessing.ipynb",
      "provenance": [],
      "collapsed_sections": [],
      "machine_shape": "hm"
    },
    "kernelspec": {
      "name": "python3",
      "display_name": "Python 3"
    },
    "accelerator": "GPU"
  },
  "cells": [
    {
      "cell_type": "code",
      "metadata": {
        "id": "_zgSRJjY-5pE",
        "colab_type": "code",
        "outputId": "342b7a13-cec5-4119-fe86-4d1ae966b65f",
        "colab": {
          "base_uri": "https://localhost:8080/",
          "height": 85
        }
      },
      "source": [
        "from google.colab import drive\n",
        "drive.mount('/content/drive')\n",
        "!ls\n",
        "!pwd\n",
        "!cd /content/drive\n",
        "print('done')"
      ],
      "execution_count": 0,
      "outputs": [
        {
          "output_type": "stream",
          "text": [
            "Drive already mounted at /content/drive; to attempt to forcibly remount, call drive.mount(\"/content/drive\", force_remount=True).\n",
            "drive  sample_data\n",
            "/content\n",
            "done\n"
          ],
          "name": "stdout"
        }
      ]
    },
    {
      "cell_type": "code",
      "metadata": {
        "id": "4X069ywY_c8_",
        "colab_type": "code",
        "colab": {}
      },
      "source": [
        ""
      ],
      "execution_count": 0,
      "outputs": []
    },
    {
      "cell_type": "code",
      "metadata": {
        "id": "wX55cBS9YYWU",
        "colab_type": "code",
        "colab": {}
      },
      "source": [
        "import pandas as pd\n",
        "import matplotlib.pyplot as plt   \n",
        "import numpy as np"
      ],
      "execution_count": 0,
      "outputs": []
    },
    {
      "cell_type": "code",
      "metadata": {
        "id": "UF0eBHW8YhN7",
        "colab_type": "code",
        "colab": {}
      },
      "source": [
        "# df1=pd.read_csv(\"/content/drive/My Drive/RK_ALDA_PROJ/release/50000.csv\")\n",
        "# df2=pd.read_csv('/content/drive/My Drive/RK_ALDA_PROJ/release/300000.csv')\n",
        "# df3=pd.read_csv('/content/drive/My Drive/RK_ALDA_PROJ/release/400000.csv')\n",
        "# df4=pd.read_csv('/content/drive/My Drive/RK_ALDA_PROJ/release/700000.csv')\n",
        "# df5=pd.read_csv('/content/drive/My Drive/RK_ALDA_PROJ/release/till_last.csv')\n",
        "# main=pd.concat([df1,df2,df3,df4,df5],axis=0)"
      ],
      "execution_count": 0,
      "outputs": []
    },
    {
      "cell_type": "code",
      "metadata": {
        "id": "Tw-3Mks9wvfI",
        "colab_type": "code",
        "colab": {}
      },
      "source": [
        "data=pd.read_csv(\"/content/drive/My Drive/RK_ALDA_PROJ/RandomSample.csv\",index_col=0)"
      ],
      "execution_count": 0,
      "outputs": []
    },
    {
      "cell_type": "code",
      "metadata": {
        "id": "zTF2TIVRq5-E",
        "colab_type": "code",
        "colab": {}
      },
      "source": [
        ""
      ],
      "execution_count": 0,
      "outputs": []
    },
    {
      "cell_type": "code",
      "metadata": {
        "id": "rojjoNJwwq_0",
        "colab_type": "code",
        "outputId": "4fc7c1ea-e8ec-44c8-8d48-75938d9f22ab",
        "colab": {
          "base_uri": "https://localhost:8080/",
          "height": 649
        }
      },
      "source": [
        "data.head()"
      ],
      "execution_count": 0,
      "outputs": [
        {
          "output_type": "execute_result",
          "data": {
            "text/html": [
              "<div>\n",
              "<style scoped>\n",
              "    .dataframe tbody tr th:only-of-type {\n",
              "        vertical-align: middle;\n",
              "    }\n",
              "\n",
              "    .dataframe tbody tr th {\n",
              "        vertical-align: top;\n",
              "    }\n",
              "\n",
              "    .dataframe thead th {\n",
              "        text-align: right;\n",
              "    }\n",
              "</style>\n",
              "<table border=\"1\" class=\"dataframe\">\n",
              "  <thead>\n",
              "    <tr style=\"text-align: right;\">\n",
              "      <th></th>\n",
              "      <th>Unnamed: 0.1</th>\n",
              "      <th>archive</th>\n",
              "      <th>compression</th>\n",
              "      <th>compression_bin</th>\n",
              "      <th>coverage</th>\n",
              "      <th>coverage_bin</th>\n",
              "      <th>date</th>\n",
              "      <th>density</th>\n",
              "      <th>density_bin</th>\n",
              "      <th>summary</th>\n",
              "      <th>text</th>\n",
              "      <th>title</th>\n",
              "      <th>url</th>\n",
              "    </tr>\n",
              "  </thead>\n",
              "  <tbody>\n",
              "    <tr>\n",
              "      <th>14106</th>\n",
              "      <td>414105</td>\n",
              "      <td>https://web.archive.org/web/2008092919id_/http...</td>\n",
              "      <td>10.615385</td>\n",
              "      <td>low</td>\n",
              "      <td>0.500000</td>\n",
              "      <td>low</td>\n",
              "      <td>1970-01-01 00:33:28.092919</td>\n",
              "      <td>0.576923</td>\n",
              "      <td>abstractive</td>\n",
              "      <td>In light of this Paul Newman's passing, we bri...</td>\n",
              "      <td>['cool', 'hand', 'luke', 'paul', 'leonard', 'n...</td>\n",
              "      <td>A Video Tribute to Paul Newman</td>\n",
              "      <td>http://mashable.com/2008/09/27/paul-newman/</td>\n",
              "    </tr>\n",
              "    <tr>\n",
              "      <th>84521</th>\n",
              "      <td>784521</td>\n",
              "      <td>https://web.archive.org/web/2011012419id_/http...</td>\n",
              "      <td>10.095238</td>\n",
              "      <td>low</td>\n",
              "      <td>0.571429</td>\n",
              "      <td>low</td>\n",
              "      <td>1970-01-01 00:33:31.012419</td>\n",
              "      <td>0.571429</td>\n",
              "      <td>abstractive</td>\n",
              "      <td>Collection of all USATODAY.com coverage of Ore...</td>\n",
              "      <td>['former', 'vice', 'president', 'al', 'gore', ...</td>\n",
              "      <td>Oregon State Police</td>\n",
              "      <td>http://content.usatoday.com/topics/topic/Orego...</td>\n",
              "    </tr>\n",
              "    <tr>\n",
              "      <th>271324</th>\n",
              "      <td>971324</td>\n",
              "      <td>https://web.archive.org/web/2014021219id_/http...</td>\n",
              "      <td>52.350000</td>\n",
              "      <td>high</td>\n",
              "      <td>0.700000</td>\n",
              "      <td>low</td>\n",
              "      <td>1970-01-01 00:33:34.021219</td>\n",
              "      <td>1.200000</td>\n",
              "      <td>abstractive</td>\n",
              "      <td>Iced-over roads cause accidents, traffic jams ...</td>\n",
              "      <td>['in', 'atlanta', 'another', 'recent', 'snowst...</td>\n",
              "      <td>Winter storm headed toward D.C. knocks out pow...</td>\n",
              "      <td>http://www.washingtonpost.com/politics/winter-...</td>\n",
              "    </tr>\n",
              "    <tr>\n",
              "      <th>32209</th>\n",
              "      <td>32209</td>\n",
              "      <td>http://web.archive.org/web/20160725100153id_/h...</td>\n",
              "      <td>53.692308</td>\n",
              "      <td>high</td>\n",
              "      <td>1.000000</td>\n",
              "      <td>high</td>\n",
              "      <td>1970-08-22 08:12:05.100153</td>\n",
              "      <td>1.307692</td>\n",
              "      <td>abstractive</td>\n",
              "      <td>Should the U.S. government have the right to s...</td>\n",
              "      <td>['they', 'say', 'internet', 'know', 'border', ...</td>\n",
              "      <td>Microsoft's Latest Legal Battle: Why You Shoul...</td>\n",
              "      <td>http://fortune.com/2015/09/08/microsoft-legal-...</td>\n",
              "    </tr>\n",
              "    <tr>\n",
              "      <th>251601</th>\n",
              "      <td>951601</td>\n",
              "      <td>https://web.archive.org/web/2014120419id_/http...</td>\n",
              "      <td>31.727273</td>\n",
              "      <td>medium</td>\n",
              "      <td>0.909091</td>\n",
              "      <td>medium</td>\n",
              "      <td>1970-01-01 00:33:34.120419</td>\n",
              "      <td>1.636364</td>\n",
              "      <td>mixed</td>\n",
              "      <td>When the label says “raised cage free” and has...</td>\n",
              "      <td>['if', 'buy', 'perdue', 'chicken', 'grocery', ...</td>\n",
              "      <td>Abusing Chickens We Eat</td>\n",
              "      <td>http://www.nytimes.com/2014/12/04/opinion/nich...</td>\n",
              "    </tr>\n",
              "  </tbody>\n",
              "</table>\n",
              "</div>"
            ],
            "text/plain": [
              "        Unnamed: 0.1  ...                                                url\n",
              "14106         414105  ...        http://mashable.com/2008/09/27/paul-newman/\n",
              "84521         784521  ...  http://content.usatoday.com/topics/topic/Orego...\n",
              "271324        971324  ...  http://www.washingtonpost.com/politics/winter-...\n",
              "32209          32209  ...  http://fortune.com/2015/09/08/microsoft-legal-...\n",
              "251601        951601  ...  http://www.nytimes.com/2014/12/04/opinion/nich...\n",
              "\n",
              "[5 rows x 13 columns]"
            ]
          },
          "metadata": {
            "tags": []
          },
          "execution_count": 9
        }
      ]
    },
    {
      "cell_type": "code",
      "metadata": {
        "id": "eRtJyH0k0e_r",
        "colab_type": "code",
        "colab": {}
      },
      "source": [
        "density = data[\"density\"]"
      ],
      "execution_count": 0,
      "outputs": []
    },
    {
      "cell_type": "code",
      "metadata": {
        "id": "3TF-UltQ2vPv",
        "colab_type": "code",
        "colab": {}
      },
      "source": [
        "y = []\n",
        "for i in range(1, 500001):\n",
        "  y.append(i)\n",
        "  "
      ],
      "execution_count": 0,
      "outputs": []
    },
    {
      "cell_type": "code",
      "metadata": {
        "id": "Dd2hHMeX3VJp",
        "colab_type": "code",
        "colab": {}
      },
      "source": [
        "d = density.values.tolist()"
      ],
      "execution_count": 0,
      "outputs": []
    },
    {
      "cell_type": "code",
      "metadata": {
        "id": "slVWrWSRYOhv",
        "colab_type": "code",
        "outputId": "8ac06663-c51e-4d9d-a09e-c2c116ae0889",
        "colab": {
          "base_uri": "https://localhost:8080/",
          "height": 34
        }
      },
      "source": [
        "d[0:5]"
      ],
      "execution_count": 0,
      "outputs": [
        {
          "output_type": "execute_result",
          "data": {
            "text/plain": [
              "[0.5769230769, 0.5714285714, 1.2, 1.3076923077, 1.6363636363999998]"
            ]
          },
          "metadata": {
            "tags": []
          },
          "execution_count": 10
        }
      ]
    },
    {
      "cell_type": "code",
      "metadata": {
        "id": "TrfvBKUuWV9V",
        "colab_type": "code",
        "outputId": "045cf4a5-1564-4c79-bf52-415b75421c29",
        "colab": {
          "base_uri": "https://localhost:8080/",
          "height": 299
        }
      },
      "source": [
        "plt.hist(d[0:100000],bins='auto', histtype=\"step\")\n",
        "plt.xlim(0, 40)\n",
        "plt.xlabel('row number') \n",
        "plt.ylabel('summary density') \n",
        "plt.title('initial density plot') \n",
        "plt.show() "
      ],
      "execution_count": 0,
      "outputs": [
        {
          "output_type": "display_data",
          "data": {
            "image/png": "[encoded data removed]",
            "text/plain": [
              "<Figure size 432x288 with 1 Axes>"
            ]
          },
          "metadata": {
            "tags": []
          }
        }
      ]
    },
    {
      "cell_type": "code",
      "metadata": {
        "id": "wtrPcIXv0tlr",
        "colab_type": "code",
        "colab": {}
      },
      "source": [
        "#COVERAGE PLOT\n",
        "# plt.hist(d,bins=100)\n",
        "# plt.xlim(0, 125)\n",
        "  \n",
        "# plt.xlabel('row number') \n",
        "# plt.ylabel('summary density') \n",
        "  \n",
        "# plt.title('initial density plot') \n",
        "  \n",
        "# plt.show() \n",
        "\n",
        "# from matplotlib.pyplot import figure\n",
        "# figure(figsize=(80,6))\n",
        "\n",
        "# plt.plot(y[0:100000],c[0:100000]) \n",
        "  \n",
        "# plt.xlabel('row number') \n",
        "# plt.ylabel('summary coverage') \n",
        "\n",
        "# plt.title('initial coverage plot') \n",
        "# plt.show()"
      ],
      "execution_count": 0,
      "outputs": []
    },
    {
      "cell_type": "code",
      "metadata": {
        "id": "duVQs0MskQDX",
        "colab_type": "code",
        "colab": {}
      },
      "source": [
        "# for index, row in data[0:5].iterrows(): # actual code -> for row in data:\n",
        "  \n",
        "# #   for word in row[\"text\"]:\n",
        "#   print(row[\"text\"])\n",
        "#   print(\"\\n\")\n",
        "# (((data[0:1][\"text\"][0][1:len(data[0:1][\"text\"][0]) - 1]).replace(\"'\", \"\")).split(\", \"))"
      ],
      "execution_count": 0,
      "outputs": []
    },
    {
      "cell_type": "code",
      "metadata": {
        "id": "ghl0o9IB0urL",
        "colab_type": "code",
        "colab": {}
      },
      "source": [
        "#Hyper Parameters for word2vec\n",
        "settings = {\n",
        "\t'window_size': 200,\t# context window +- center word , size varies from 100-300\n",
        "\t'n': 10,\t\t# dimensions of word embeddings, also refer to size of hidden layer\n",
        "\t'epochs': 50,\t\t# number of training epochs\n",
        "\t'learning_rate': 0.01\t# learning rate\n",
        "}\n"
      ],
      "execution_count": 0,
      "outputs": []
    },
    {
      "cell_type": "code",
      "metadata": {
        "id": "pQ_hbcKSb0xb",
        "colab_type": "code",
        "colab": {}
      },
      "source": [
        "#declaring used variables\n",
        "from collections import defaultdict\n",
        "word_counts = {}\n",
        "word_counts = defaultdict(lambda: 0, word_counts)\n",
        "v_count = 0\n",
        "words_list = []\n",
        "word_index = {}\n",
        "index_word = {}\n",
        "word_vec = {}\n",
        "window = settings[\"window_size\"]"
      ],
      "execution_count": 0,
      "outputs": []
    },
    {
      "cell_type": "code",
      "metadata": {
        "id": "C6jK6Nj5kNj-",
        "colab_type": "code",
        "outputId": "5fed4ec1-800a-4d4a-c9e0-5250af0d2be6",
        "colab": {
          "base_uri": "https://localhost:8080/",
          "height": 1000
        }
      },
      "source": [
        "for index, row in data[0:1].iterrows():\n",
        "  for word in row[\"text\"][1:len(row[\"text\"]) - 1].replace(\"'\", \"\").split(\", \"): \n",
        "    print(word)\n",
        "print(type(data))"
      ],
      "execution_count": 0,
      "outputs": [
        {
          "output_type": "stream",
          "text": [
            "cool\n",
            "hand\n",
            "luke\n",
            "paul\n",
            "leonard\n",
            "newman\n",
            "january\n",
            "september\n",
            "he\n",
            "quiet\n",
            "private\n",
            "man\n",
            "but\n",
            "giant\n",
            "amongst\n",
            "star\n",
            "a\n",
            "philanthropist\n",
            "million\n",
            "and\n",
            "owned\n",
            "drove\n",
            "racecars\n",
            "he\n",
            "producer\n",
            "director\n",
            "and\n",
            "actor\n",
            "beyond\n",
            "compare\n",
            "he\n",
            "almost\n",
            "every\n",
            "award\n",
            "a\n",
            "great\n",
            "talent\n",
            "one\n",
            "rare\n",
            "his\n",
            "great\n",
            "film\n",
            "last\n",
            "forever\n",
            "for\n",
            "new\n",
            "generation\n",
            "see\n",
            "and\n",
            "always\n",
            "u\n",
            "in\n",
            "page\n",
            "history\n",
            "he\n",
            "always\n",
            "said\n",
            "lucky\n",
            "but\n",
            "u\n",
            "blessed\n",
            "for\n",
            "world\n",
            "he\n",
            "passed\n",
            "almost\n",
            "every\n",
            "earthly\n",
            "test\n",
            "the\n",
            "hole\n",
            "in\n",
            "the\n",
            "wall\n",
            "gang\n",
            "camp\n",
            "serving\n",
            "child\n",
            "ill\n",
            "where\n",
            "could\n",
            "fun\n",
            "kid\n",
            "one\n",
            "dream\n",
            "fulfill\n",
            "he\n",
            "family\n",
            "man\n",
            "first\n",
            "married\n",
            "joanne\n",
            "fifty\n",
            "year\n",
            "and\n",
            "left\n",
            "one\n",
            "u\n",
            "filled\n",
            "memory\n",
            "grief\n",
            "tear\n",
            "survived\n",
            "joanne\n",
            "five\n",
            "daughter\n",
            "his\n",
            "son\n",
            "scott\n",
            "gone\n",
            "see\n",
            "he\n",
            "broken\n",
            "bound\n",
            "earth\n",
            "and\n",
            "suffering\n",
            "set\n",
            "free\n",
            "he\n",
            "gone\n",
            "much\n",
            "better\n",
            "place\n",
            "and\n",
            "i\n",
            "bet\n",
            "looking\n",
            "with\n",
            "sparkling\n",
            "eye\n",
            "famous\n",
            "grin\n",
            "and\n",
            "saying\n",
            "i\n",
            "always\n",
            "around\n",
            "del\n",
            "abe\n",
            "jones\n",
            "abeabe\n",
            "<class 'pandas.core.frame.DataFrame'>\n"
          ],
          "name": "stdout"
        }
      ]
    },
    {
      "cell_type": "code",
      "metadata": {
        "id": "DPCJef5Oax8m",
        "colab_type": "code",
        "colab": {}
      },
      "source": [
        "\n",
        "def generate_training_data(settings, corpus):\n",
        "#   for row in corpus.iterrows(): # actual code -> for row in data:\n",
        "#     for word in row[\"text\"]:\n",
        "  for index, row in corpus.iterrows():\n",
        "    for word in row[\"text\"][1:len(row[\"text\"]) - 1].replace(\"'\", \"\").split(\", \"):\n",
        "      if word.isalnum():\n",
        "        word_counts[word] += 1\n",
        "    ## How many unique words in vocab? 9\n",
        "    v_count = len(word_counts.keys())\n",
        "    # Generate Lookup Dictionaries (vocab)\n",
        "    words_list = list(word_counts.keys())\n",
        "    # Generate word:index\n",
        "    word_index = dict((word, i) for i, word in enumerate(words_list))\n",
        "    # Generate index:word\n",
        "    index_word = dict((i, word) for i, word in enumerate(words_list))\n",
        "\n",
        "    training_data = []\n",
        "    # Cycle through each sentence in corpus\n",
        "    for sentence in corpus[\"text\"]:\n",
        "      sent_len = len(sentence)\n",
        "      # Cycle through each word in sentence\n",
        "      for i, word in enumerate(sentence):\n",
        "        # Convert target word to one-hot\n",
        "        w_target = word2onehot(sentence[i])\n",
        "        # Cycle through context window\n",
        "        w_context = []\n",
        "        # Note: window_size 2 will have range of 5 values\n",
        "        for j in range(i - window, i + window+1):\n",
        "          # Criteria for context word \n",
        "          # 1. Target word cannot be context word (j != i)\n",
        "          # 2. Index must be greater or equal than 0 (j >= 0) - if not list index out of range\n",
        "          # 3. Index must be less or equal than length of sentence (j <= sent_len-1) - if not list index out of range \n",
        "          if j != i and j <= sent_len-1 and j >= 0:\n",
        "            # Append the one-hot representation of word to w_context\n",
        "            w_context.append(word2onehot(sentence[j]))\n",
        "            # print(sentence[i], sentence[j]) \n",
        "            # training_data contains a one-hot representation of the target word and context words\n",
        "        training_data.append([w_target, w_context])\n",
        "    return np.array(training_data)\n"
      ],
      "execution_count": 0,
      "outputs": []
    },
    {
      "cell_type": "code",
      "metadata": {
        "id": "PFjV649gf0D0",
        "colab_type": "code",
        "colab": {}
      },
      "source": [
        "import numpy as np\n",
        "def word2onehot(word):\n",
        "#   print(\"word =\", word)\n",
        "  global word_index\n",
        "  global word_vec\n",
        "  if word.isalnum():\n",
        "    \n",
        "    # word_vec - initialise a blank vector\n",
        "    word_vec = [0 for i in range(0, v_count)] \n",
        "    # Get ID of word from word_index\n",
        "    \n",
        "    if word in word_index:\n",
        "      print(word_index)\n",
        "      w = word_index[word]\n",
        "    # Change value from 0 to 1 according to ID of the word\n",
        "#     print((word_index))\n",
        "      word_vec[w] = 1\n",
        "  return word_vec"
      ],
      "execution_count": 0,
      "outputs": []
    },
    {
      "cell_type": "code",
      "metadata": {
        "id": "bImPwdOMiBEb",
        "colab_type": "code",
        "colab": {}
      },
      "source": [
        "training_data = generate_training_data(settings, data[0:10])"
      ],
      "execution_count": 0,
      "outputs": []
    },
    {
      "cell_type": "code",
      "metadata": {
        "id": "sEZKGnXw8AYp",
        "colab_type": "code",
        "outputId": "233c3b4d-ae63-4da4-b0f9-1625130d3cad",
        "colab": {
          "base_uri": "https://localhost:8080/",
          "height": 285
        }
      },
      "source": [
        "training_data"
      ],
      "execution_count": 0,
      "outputs": [
        {
          "output_type": "execute_result",
          "data": {
            "text/plain": [
              "array([[list([]),\n",
              "        list([[], [], [], [], [], [], [], [], [], [], [], [], [], [], [], [], [], [], [], [], [], [], [], [], [], [], [], [], [], [], [], [], [], [], [], [], [], [], [], [], [], [], [], [], [], [], [], [], [], [], [], [], [], [], [], [], [], [], [], [], [], [], [], [], [], [], [], [], [], [], [], [], [], [], [], [], [], [], [], [], [], [], [], [], [], [], [], [], [], [], [], [], [], [], [], [], [], [], [], [], [], [], [], [], [], [], [], [], [], [], [], [], [], [], [], [], [], [], [], [], [], [], [], [], [], [], [], [], [], [], [], [], [], [], [], [], [], [], [], [], [], [], [], [], [], [], [], [], [], [], [], [], [], [], [], [], [], [], [], [], [], [], [], [], [], [], [], [], [], [], [], [], [], [], [], [], [], [], [], [], [], [], [], [], [], [], [], [], [], [], [], [], [], [], [], [], [], [], [], []])],\n",
              "       [list([]),\n",
              "        list([[], [], [], [], [], [], [], [], [], [], [], [], [], [], [], [], [], [], [], [], [], [], [], [], [], [], [], [], [], [], [], [], [], [], [], [], [], [], [], [], [], [], [], [], [], [], [], [], [], [], [], [], [], [], [], [], [], [], [], [], [], [], [], [], [], [], [], [], [], [], [], [], [], [], [], [], [], [], [], [], [], [], [], [], [], [], [], [], [], [], [], [], [], [], [], [], [], [], [], [], [], [], [], [], [], [], [], [], [], [], [], [], [], [], [], [], [], [], [], [], [], [], [], [], [], [], [], [], [], [], [], [], [], [], [], [], [], [], [], [], [], [], [], [], [], [], [], [], [], [], [], [], [], [], [], [], [], [], [], [], [], [], [], [], [], [], [], [], [], [], [], [], [], [], [], [], [], [], [], [], [], [], [], [], [], [], [], [], [], [], [], [], [], [], [], [], [], [], [], [], []])],\n",
              "       [list([]),\n",
              "        list([[], [], [], [], [], [], [], [], [], [], [], [], [], [], [], [], [], [], [], [], [], [], [], [], [], [], [], [], [], [], [], [], [], [], [], [], [], [], [], [], [], [], [], [], [], [], [], [], [], [], [], [], [], [], [], [], [], [], [], [], [], [], [], [], [], [], [], [], [], [], [], [], [], [], [], [], [], [], [], [], [], [], [], [], [], [], [], [], [], [], [], [], [], [], [], [], [], [], [], [], [], [], [], [], [], [], [], [], [], [], [], [], [], [], [], [], [], [], [], [], [], [], [], [], [], [], [], [], [], [], [], [], [], [], [], [], [], [], [], [], [], [], [], [], [], [], [], [], [], [], [], [], [], [], [], [], [], [], [], [], [], [], [], [], [], [], [], [], [], [], [], [], [], [], [], [], [], [], [], [], [], [], [], [], [], [], [], [], [], [], [], [], [], [], [], [], [], [], [], [], [], []])],\n",
              "       ...,\n",
              "       [list([]),\n",
              "        list([[], [], [], [], [], [], [], [], [], [], [], [], [], [], [], [], [], [], [], [], [], [], [], [], [], [], [], [], [], [], [], [], [], [], [], [], [], [], [], [], [], [], [], [], [], [], [], [], [], [], [], [], [], [], [], [], [], [], [], [], [], [], [], [], [], [], [], [], [], [], [], [], [], [], [], [], [], [], [], [], [], [], [], [], [], [], [], [], [], [], [], [], [], [], [], [], [], [], [], [], [], [], [], [], [], [], [], [], [], [], [], [], [], [], [], [], [], [], [], [], [], [], [], [], [], [], [], [], [], [], [], [], [], [], [], [], [], [], [], [], [], [], [], [], [], [], [], [], [], [], [], [], [], [], [], [], [], [], [], [], [], [], [], [], [], [], [], [], [], [], [], [], [], [], [], [], [], [], [], [], [], [], [], [], [], [], [], [], [], [], [], [], [], [], [], [], [], [], [], [], [], []])],\n",
              "       [list([]),\n",
              "        list([[], [], [], [], [], [], [], [], [], [], [], [], [], [], [], [], [], [], [], [], [], [], [], [], [], [], [], [], [], [], [], [], [], [], [], [], [], [], [], [], [], [], [], [], [], [], [], [], [], [], [], [], [], [], [], [], [], [], [], [], [], [], [], [], [], [], [], [], [], [], [], [], [], [], [], [], [], [], [], [], [], [], [], [], [], [], [], [], [], [], [], [], [], [], [], [], [], [], [], [], [], [], [], [], [], [], [], [], [], [], [], [], [], [], [], [], [], [], [], [], [], [], [], [], [], [], [], [], [], [], [], [], [], [], [], [], [], [], [], [], [], [], [], [], [], [], [], [], [], [], [], [], [], [], [], [], [], [], [], [], [], [], [], [], [], [], [], [], [], [], [], [], [], [], [], [], [], [], [], [], [], [], [], [], [], [], [], [], [], [], [], [], [], [], [], [], [], [], [], [], []])],\n",
              "       [list([]),\n",
              "        list([[], [], [], [], [], [], [], [], [], [], [], [], [], [], [], [], [], [], [], [], [], [], [], [], [], [], [], [], [], [], [], [], [], [], [], [], [], [], [], [], [], [], [], [], [], [], [], [], [], [], [], [], [], [], [], [], [], [], [], [], [], [], [], [], [], [], [], [], [], [], [], [], [], [], [], [], [], [], [], [], [], [], [], [], [], [], [], [], [], [], [], [], [], [], [], [], [], [], [], [], [], [], [], [], [], [], [], [], [], [], [], [], [], [], [], [], [], [], [], [], [], [], [], [], [], [], [], [], [], [], [], [], [], [], [], [], [], [], [], [], [], [], [], [], [], [], [], [], [], [], [], [], [], [], [], [], [], [], [], [], [], [], [], [], [], [], [], [], [], [], [], [], [], [], [], [], [], [], [], [], [], [], [], [], [], [], [], [], [], [], [], [], [], [], [], [], [], [], [], []])]],\n",
              "      dtype=object)"
            ]
          },
          "metadata": {
            "tags": []
          },
          "execution_count": 142
        }
      ]
    },
    {
      "cell_type": "code",
      "metadata": {
        "id": "wqMvQZs3fytL",
        "colab_type": "code",
        "colab": {}
      },
      "source": [
        ""
      ],
      "execution_count": 0,
      "outputs": []
    },
    {
      "cell_type": "code",
      "metadata": {
        "id": "suznu0HO8GCz",
        "colab_type": "code",
        "colab": {}
      },
      "source": [
        "# new.shape"
      ],
      "execution_count": 0,
      "outputs": []
    },
    {
      "cell_type": "code",
      "metadata": {
        "id": "jKt7CAHr9IQ5",
        "colab_type": "code",
        "colab": {}
      },
      "source": [
        "# new"
      ],
      "execution_count": 0,
      "outputs": []
    },
    {
      "cell_type": "code",
      "metadata": {
        "id": "h4T__NT82bu-",
        "colab_type": "code",
        "colab": {}
      },
      "source": [
        "# import nltk\n",
        "# from nltk.corpus import stopwords\n",
        "# from nltk.tokenize import word_tokenize\n"
      ],
      "execution_count": 0,
      "outputs": []
    },
    {
      "cell_type": "code",
      "metadata": {
        "id": "YWQUbk9a3Zem",
        "colab_type": "code",
        "colab": {}
      },
      "source": [
        "# nltk.download('stopwords')"
      ],
      "execution_count": 0,
      "outputs": []
    },
    {
      "cell_type": "code",
      "metadata": {
        "id": "wYbVZ1UN78rP",
        "colab_type": "code",
        "colab": {}
      },
      "source": [
        "# nltk.download('punkt')"
      ],
      "execution_count": 0,
      "outputs": []
    },
    {
      "cell_type": "code",
      "metadata": {
        "id": "0ulP1YIY2nUx",
        "colab_type": "code",
        "colab": {}
      },
      "source": [
        "# stop_words=set(stopwords.words('english'))"
      ],
      "execution_count": 0,
      "outputs": []
    },
    {
      "cell_type": "code",
      "metadata": {
        "id": "ZqwuzdQS7ZIG",
        "colab_type": "code",
        "colab": {}
      },
      "source": [
        "# dic={}\n",
        "for e in stop_words:\n",
        "  dic[e]=0"
      ],
      "execution_count": 0,
      "outputs": []
    },
    {
      "cell_type": "code",
      "metadata": {
        "id": "wRk0rKHh3c2l",
        "colab_type": "code",
        "colab": {}
      },
      "source": [
        "# 'an' in stop_words"
      ],
      "execution_count": 0,
      "outputs": []
    },
    {
      "cell_type": "code",
      "metadata": {
        "id": "5OC3iTLBB7hU",
        "colab_type": "code",
        "colab": {}
      },
      "source": [
        "# nltk.download('wordnet')"
      ],
      "execution_count": 0,
      "outputs": []
    },
    {
      "cell_type": "code",
      "metadata": {
        "id": "oCX1ETil_yCy",
        "colab_type": "code",
        "colab": {}
      },
      "source": [
        "# from nltk.stem import PorterStemmer as ps\n",
        "# ps = PorterStemmer() "
      ],
      "execution_count": 0,
      "outputs": []
    },
    {
      "cell_type": "code",
      "metadata": {
        "id": "GOdaoAFTBoNw",
        "colab_type": "code",
        "colab": {}
      },
      "source": [
        "# from nltk.stem import WordNetLemmatizer\n",
        "# lemmatizer = WordNetLemmatizer() "
      ],
      "execution_count": 0,
      "outputs": []
    },
    {
      "cell_type": "code",
      "metadata": {
        "id": "I9ldJOUTEceV",
        "colab_type": "code",
        "colab": {}
      },
      "source": [
        "# import re"
      ],
      "execution_count": 0,
      "outputs": []
    },
    {
      "cell_type": "code",
      "metadata": {
        "id": "nRgZPXh3FG7L",
        "colab_type": "code",
        "colab": {}
      },
      "source": [
        "# counter=0"
      ],
      "execution_count": 0,
      "outputs": []
    },
    {
      "cell_type": "code",
      "metadata": {
        "id": "-1lV-e6c9WBN",
        "colab_type": "code",
        "colab": {}
      },
      "source": [
        "# def preprocessing(x):\n",
        "# #   print(x)\n",
        "#   tokens=word_tokenize(x)\n",
        "# #   print(tokens)\n",
        "#   filter1 = [re.sub('[0-9]','', i) for i in tokens]\n",
        "#   filter2=[lemmatizer.lemmatize(w.lower()) for w in filter1 if(not w in dic and w.isalpha())]\n",
        "  \n",
        "\n",
        "\n",
        "#   return filter2\n",
        "  "
      ],
      "execution_count": 0,
      "outputs": []
    },
    {
      "cell_type": "code",
      "metadata": {
        "id": "M6LhDSSGAR1H",
        "colab_type": "code",
        "colab": {}
      },
      "source": [
        "# preprocessing(\"THIS IS playing plays123\")"
      ],
      "execution_count": 0,
      "outputs": []
    },
    {
      "cell_type": "code",
      "metadata": {
        "id": "4H-bK8917oqV",
        "colab_type": "code",
        "colab": {}
      },
      "source": [
        "# new_data=t1.copy(deep=True)"
      ],
      "execution_count": 0,
      "outputs": []
    },
    {
      "cell_type": "code",
      "metadata": {
        "id": "y2ZHF3VW7005",
        "colab_type": "code",
        "colab": {}
      },
      "source": [
        "# new_data=new_data.iloc[700000:,:]"
      ],
      "execution_count": 0,
      "outputs": []
    },
    {
      "cell_type": "code",
      "metadata": {
        "id": "RG2mT9R0GMnE",
        "colab_type": "code",
        "colab": {}
      },
      "source": [
        "# new_data.shape"
      ],
      "execution_count": 0,
      "outputs": []
    },
    {
      "cell_type": "code",
      "metadata": {
        "id": "1F5XNy59GODa",
        "colab_type": "code",
        "colab": {}
      },
      "source": [
        "# new_data.shape"
      ],
      "execution_count": 0,
      "outputs": []
    },
    {
      "cell_type": "code",
      "metadata": {
        "id": "Isp8SlrMGRrl",
        "colab_type": "code",
        "colab": {}
      },
      "source": [
        "# new_data['text']=new_data['text'].apply(preprocessing)\n"
      ],
      "execution_count": 0,
      "outputs": []
    },
    {
      "cell_type": "code",
      "metadata": {
        "id": "15ErJvdwcnuS",
        "colab_type": "code",
        "colab": {}
      },
      "source": [
        "# new_data.shape"
      ],
      "execution_count": 0,
      "outputs": []
    },
    {
      "cell_type": "code",
      "metadata": {
        "id": "zGrka7OBISWK",
        "colab_type": "code",
        "colab": {}
      },
      "source": [
        "# new_data.to_csv('/content/drive/My Drive/RK_ALDA_PROJ/release/till_last.csv')"
      ],
      "execution_count": 0,
      "outputs": []
    },
    {
      "cell_type": "code",
      "metadata": {
        "id": "DuGudSJPIWNI",
        "colab_type": "code",
        "colab": {}
      },
      "source": [
        "# new_data.head()"
      ],
      "execution_count": 0,
      "outputs": []
    },
    {
      "cell_type": "code",
      "metadata": {
        "id": "HRrB5r2dTq2M",
        "colab_type": "code",
        "colab": {}
      },
      "source": [
        ""
      ],
      "execution_count": 0,
      "outputs": []
    },
    {
      "cell_type": "markdown",
      "metadata": {
        "id": "IT1K30irYxuK",
        "colab_type": "text"
      },
      "source": [
        "**WORD CLOUDS**\n"
      ]
    },
    {
      "cell_type": "code",
      "metadata": {
        "id": "riM-F245ZTEf",
        "colab_type": "code",
        "outputId": "555aeee7-b95a-467f-f1b3-cca7737482b9",
        "colab": {
          "base_uri": "https://localhost:8080/",
          "height": 34
        }
      },
      "source": [
        "data.shape"
      ],
      "execution_count": 0,
      "outputs": [
        {
          "output_type": "execute_result",
          "data": {
            "text/plain": [
              "(500000, 13)"
            ]
          },
          "metadata": {
            "tags": []
          },
          "execution_count": 5
        }
      ]
    },
    {
      "cell_type": "code",
      "metadata": {
        "id": "p_6WY2sAY3vL",
        "colab_type": "code",
        "colab": {}
      },
      "source": [
        "random100=data.sample(n=100)"
      ],
      "execution_count": 0,
      "outputs": []
    },
    {
      "cell_type": "code",
      "metadata": {
        "id": "pNYakuhaZX30",
        "colab_type": "code",
        "outputId": "e7621d5f-40d1-435e-99c5-efb9c6a71104",
        "colab": {
          "base_uri": "https://localhost:8080/",
          "height": 683
        }
      },
      "source": [
        "random100.head()"
      ],
      "execution_count": 0,
      "outputs": [
        {
          "output_type": "execute_result",
          "data": {
            "text/html": [
              "<div>\n",
              "<style scoped>\n",
              "    .dataframe tbody tr th:only-of-type {\n",
              "        vertical-align: middle;\n",
              "    }\n",
              "\n",
              "    .dataframe tbody tr th {\n",
              "        vertical-align: top;\n",
              "    }\n",
              "\n",
              "    .dataframe thead th {\n",
              "        text-align: right;\n",
              "    }\n",
              "</style>\n",
              "<table border=\"1\" class=\"dataframe\">\n",
              "  <thead>\n",
              "    <tr style=\"text-align: right;\">\n",
              "      <th></th>\n",
              "      <th>Unnamed: 0.1</th>\n",
              "      <th>archive</th>\n",
              "      <th>compression</th>\n",
              "      <th>compression_bin</th>\n",
              "      <th>coverage</th>\n",
              "      <th>coverage_bin</th>\n",
              "      <th>date</th>\n",
              "      <th>density</th>\n",
              "      <th>density_bin</th>\n",
              "      <th>summary</th>\n",
              "      <th>text</th>\n",
              "      <th>title</th>\n",
              "      <th>url</th>\n",
              "    </tr>\n",
              "  </thead>\n",
              "  <tbody>\n",
              "    <tr>\n",
              "      <th>41000</th>\n",
              "      <td>340997</td>\n",
              "      <td>https://web.archive.org/web/2012022319id_/http...</td>\n",
              "      <td>263.875000</td>\n",
              "      <td>high</td>\n",
              "      <td>0.750000</td>\n",
              "      <td>low</td>\n",
              "      <td>1970-01-01 00:33:32.022319</td>\n",
              "      <td>0.750000</td>\n",
              "      <td>abstractive</td>\n",
              "      <td>All-Star panel weighs in on proposals</td>\n",
              "      <td>['this', 'rush', 'transcript', 'special', 'rep...</td>\n",
              "      <td>Politics of corporate tax plans</td>\n",
              "      <td>http://www.foxnews.com/on-air/special-report/2...</td>\n",
              "    </tr>\n",
              "    <tr>\n",
              "      <th>307162</th>\n",
              "      <td>236243</td>\n",
              "      <td>https://web.archive.org/web/2014050719id_/http...</td>\n",
              "      <td>61.619048</td>\n",
              "      <td>high</td>\n",
              "      <td>1.000000</td>\n",
              "      <td>high</td>\n",
              "      <td>1970-01-01 00:33:34.050719</td>\n",
              "      <td>11.666667</td>\n",
              "      <td>extractive</td>\n",
              "      <td>Russian President Vladimir Putin wants a delay...</td>\n",
              "      <td>['mariupol', 'ukraine', 'cnn', 'russian', 'pre...</td>\n",
              "      <td>Report: Putin wants delay in referendum in Ukr...</td>\n",
              "      <td>http://www.cnn.com/2014/05/07/world/europe/ukr...</td>\n",
              "    </tr>\n",
              "    <tr>\n",
              "      <th>264715</th>\n",
              "      <td>664714</td>\n",
              "      <td>https://web.archive.org/web/2016020819id_/http...</td>\n",
              "      <td>20.914286</td>\n",
              "      <td>medium</td>\n",
              "      <td>0.714286</td>\n",
              "      <td>low</td>\n",
              "      <td>1970-01-01 00:33:36.020819</td>\n",
              "      <td>2.828571</td>\n",
              "      <td>mixed</td>\n",
              "      <td>‘Climate change is real and it is with us,’ sa...</td>\n",
              "      <td>['the', 'u', 'forest', 'service', 'warned', 't...</td>\n",
              "      <td>US Forest Service stretched to breaking point ...</td>\n",
              "      <td>http://www.theguardian.com/world/2016/feb/08/u...</td>\n",
              "    </tr>\n",
              "    <tr>\n",
              "      <th>68135</th>\n",
              "      <td>468134</td>\n",
              "      <td>https://web.archive.org/web/2013042119id_/http...</td>\n",
              "      <td>20.469388</td>\n",
              "      <td>medium</td>\n",
              "      <td>1.000000</td>\n",
              "      <td>high</td>\n",
              "      <td>1970-01-01 00:33:33.042119</td>\n",
              "      <td>17.775510</td>\n",
              "      <td>extractive</td>\n",
              "      <td>He stands 5-8 and weighs 178 pounds, and a few...</td>\n",
              "      <td>['tavon', 'austin', 'stand', 'weighs', 'pound'...</td>\n",
              "      <td>West Virginia’s Tavon Austin has NFL teams thi...</td>\n",
              "      <td>http://www.nydailynews.com/sports/football/aus...</td>\n",
              "    </tr>\n",
              "    <tr>\n",
              "      <th>104546</th>\n",
              "      <td>154546</td>\n",
              "      <td>http://web.archive.org/web/20160711075915id_/h...</td>\n",
              "      <td>10.473684</td>\n",
              "      <td>low</td>\n",
              "      <td>0.921053</td>\n",
              "      <td>medium</td>\n",
              "      <td>1970-08-22 08:11:51.075915</td>\n",
              "      <td>13.815789</td>\n",
              "      <td>extractive</td>\n",
              "      <td>Antonio Cromartie can’t retire from football a...</td>\n",
              "      <td>['antonio', 'cromartie', 'retire', 'football',...</td>\n",
              "      <td>Jets cornerback pays more in child support tha...</td>\n",
              "      <td>http://nypost.com/2016/01/17/antonio-cromartie...</td>\n",
              "    </tr>\n",
              "  </tbody>\n",
              "</table>\n",
              "</div>"
            ],
            "text/plain": [
              "        Unnamed: 0.1  ...                                                url\n",
              "41000         340997  ...  http://www.foxnews.com/on-air/special-report/2...\n",
              "307162        236243  ...  http://www.cnn.com/2014/05/07/world/europe/ukr...\n",
              "264715        664714  ...  http://www.theguardian.com/world/2016/feb/08/u...\n",
              "68135         468134  ...  http://www.nydailynews.com/sports/football/aus...\n",
              "104546        154546  ...  http://nypost.com/2016/01/17/antonio-cromartie...\n",
              "\n",
              "[5 rows x 13 columns]"
            ]
          },
          "metadata": {
            "tags": []
          },
          "execution_count": 7
        }
      ]
    },
    {
      "cell_type": "code",
      "metadata": {
        "id": "bCKaGsmkbvQf",
        "colab_type": "code",
        "colab": {}
      },
      "source": [
        "random100.reset_index(drop=True,inplace=True)"
      ],
      "execution_count": 0,
      "outputs": []
    },
    {
      "cell_type": "code",
      "metadata": {
        "id": "9hf1vBaZb2Pf",
        "colab_type": "code",
        "outputId": "606e634f-3069-41ec-e7f9-bac626f62977",
        "colab": {
          "base_uri": "https://localhost:8080/",
          "height": 683
        }
      },
      "source": [
        "random100.head()"
      ],
      "execution_count": 0,
      "outputs": [
        {
          "output_type": "execute_result",
          "data": {
            "text/html": [
              "<div>\n",
              "<style scoped>\n",
              "    .dataframe tbody tr th:only-of-type {\n",
              "        vertical-align: middle;\n",
              "    }\n",
              "\n",
              "    .dataframe tbody tr th {\n",
              "        vertical-align: top;\n",
              "    }\n",
              "\n",
              "    .dataframe thead th {\n",
              "        text-align: right;\n",
              "    }\n",
              "</style>\n",
              "<table border=\"1\" class=\"dataframe\">\n",
              "  <thead>\n",
              "    <tr style=\"text-align: right;\">\n",
              "      <th></th>\n",
              "      <th>Unnamed: 0.1</th>\n",
              "      <th>archive</th>\n",
              "      <th>compression</th>\n",
              "      <th>compression_bin</th>\n",
              "      <th>coverage</th>\n",
              "      <th>coverage_bin</th>\n",
              "      <th>date</th>\n",
              "      <th>density</th>\n",
              "      <th>density_bin</th>\n",
              "      <th>summary</th>\n",
              "      <th>text</th>\n",
              "      <th>title</th>\n",
              "      <th>url</th>\n",
              "    </tr>\n",
              "  </thead>\n",
              "  <tbody>\n",
              "    <tr>\n",
              "      <th>0</th>\n",
              "      <td>340997</td>\n",
              "      <td>https://web.archive.org/web/2012022319id_/http...</td>\n",
              "      <td>263.875000</td>\n",
              "      <td>high</td>\n",
              "      <td>0.750000</td>\n",
              "      <td>low</td>\n",
              "      <td>1970-01-01 00:33:32.022319</td>\n",
              "      <td>0.750000</td>\n",
              "      <td>abstractive</td>\n",
              "      <td>All-Star panel weighs in on proposals</td>\n",
              "      <td>['this', 'rush', 'transcript', 'special', 'rep...</td>\n",
              "      <td>Politics of corporate tax plans</td>\n",
              "      <td>http://www.foxnews.com/on-air/special-report/2...</td>\n",
              "    </tr>\n",
              "    <tr>\n",
              "      <th>1</th>\n",
              "      <td>236243</td>\n",
              "      <td>https://web.archive.org/web/2014050719id_/http...</td>\n",
              "      <td>61.619048</td>\n",
              "      <td>high</td>\n",
              "      <td>1.000000</td>\n",
              "      <td>high</td>\n",
              "      <td>1970-01-01 00:33:34.050719</td>\n",
              "      <td>11.666667</td>\n",
              "      <td>extractive</td>\n",
              "      <td>Russian President Vladimir Putin wants a delay...</td>\n",
              "      <td>['mariupol', 'ukraine', 'cnn', 'russian', 'pre...</td>\n",
              "      <td>Report: Putin wants delay in referendum in Ukr...</td>\n",
              "      <td>http://www.cnn.com/2014/05/07/world/europe/ukr...</td>\n",
              "    </tr>\n",
              "    <tr>\n",
              "      <th>2</th>\n",
              "      <td>664714</td>\n",
              "      <td>https://web.archive.org/web/2016020819id_/http...</td>\n",
              "      <td>20.914286</td>\n",
              "      <td>medium</td>\n",
              "      <td>0.714286</td>\n",
              "      <td>low</td>\n",
              "      <td>1970-01-01 00:33:36.020819</td>\n",
              "      <td>2.828571</td>\n",
              "      <td>mixed</td>\n",
              "      <td>‘Climate change is real and it is with us,’ sa...</td>\n",
              "      <td>['the', 'u', 'forest', 'service', 'warned', 't...</td>\n",
              "      <td>US Forest Service stretched to breaking point ...</td>\n",
              "      <td>http://www.theguardian.com/world/2016/feb/08/u...</td>\n",
              "    </tr>\n",
              "    <tr>\n",
              "      <th>3</th>\n",
              "      <td>468134</td>\n",
              "      <td>https://web.archive.org/web/2013042119id_/http...</td>\n",
              "      <td>20.469388</td>\n",
              "      <td>medium</td>\n",
              "      <td>1.000000</td>\n",
              "      <td>high</td>\n",
              "      <td>1970-01-01 00:33:33.042119</td>\n",
              "      <td>17.775510</td>\n",
              "      <td>extractive</td>\n",
              "      <td>He stands 5-8 and weighs 178 pounds, and a few...</td>\n",
              "      <td>['tavon', 'austin', 'stand', 'weighs', 'pound'...</td>\n",
              "      <td>West Virginia’s Tavon Austin has NFL teams thi...</td>\n",
              "      <td>http://www.nydailynews.com/sports/football/aus...</td>\n",
              "    </tr>\n",
              "    <tr>\n",
              "      <th>4</th>\n",
              "      <td>154546</td>\n",
              "      <td>http://web.archive.org/web/20160711075915id_/h...</td>\n",
              "      <td>10.473684</td>\n",
              "      <td>low</td>\n",
              "      <td>0.921053</td>\n",
              "      <td>medium</td>\n",
              "      <td>1970-08-22 08:11:51.075915</td>\n",
              "      <td>13.815789</td>\n",
              "      <td>extractive</td>\n",
              "      <td>Antonio Cromartie can’t retire from football a...</td>\n",
              "      <td>['antonio', 'cromartie', 'retire', 'football',...</td>\n",
              "      <td>Jets cornerback pays more in child support tha...</td>\n",
              "      <td>http://nypost.com/2016/01/17/antonio-cromartie...</td>\n",
              "    </tr>\n",
              "  </tbody>\n",
              "</table>\n",
              "</div>"
            ],
            "text/plain": [
              "   Unnamed: 0.1  ...                                                url\n",
              "0        340997  ...  http://www.foxnews.com/on-air/special-report/2...\n",
              "1        236243  ...  http://www.cnn.com/2014/05/07/world/europe/ukr...\n",
              "2        664714  ...  http://www.theguardian.com/world/2016/feb/08/u...\n",
              "3        468134  ...  http://www.nydailynews.com/sports/football/aus...\n",
              "4        154546  ...  http://nypost.com/2016/01/17/antonio-cromartie...\n",
              "\n",
              "[5 rows x 13 columns]"
            ]
          },
          "metadata": {
            "tags": []
          },
          "execution_count": 9
        }
      ]
    },
    {
      "cell_type": "code",
      "metadata": {
        "id": "_m8YNiaJZZlx",
        "colab_type": "code",
        "colab": {}
      },
      "source": [
        "from wordcloud import WordCloud,STOPWORDS"
      ],
      "execution_count": 0,
      "outputs": []
    },
    {
      "cell_type": "markdown",
      "metadata": {
        "id": "YUOY_GVN9QI1",
        "colab_type": "text"
      },
      "source": [
        "**Low Coverage Word Clouds**"
      ]
    },
    {
      "cell_type": "code",
      "metadata": {
        "id": "RyJtV76_Zn4t",
        "colab_type": "code",
        "colab": {}
      },
      "source": [
        "w1=WordCloud(width=800,height=800,background_color='white',stopwords=set(STOPWORDS),min_font_size=10).generate(random_low.loc[0,'summary'])"
      ],
      "execution_count": 0,
      "outputs": []
    },
    {
      "cell_type": "code",
      "metadata": {
        "id": "ISPqN8mea6vi",
        "colab_type": "code",
        "colab": {}
      },
      "source": [
        "import matplotlib.pyplot as plt"
      ],
      "execution_count": 0,
      "outputs": []
    },
    {
      "cell_type": "code",
      "metadata": {
        "id": "nWucvatlbYqs",
        "colab_type": "code",
        "outputId": "9cb467fd-c894-458d-fc5e-ceb85e82e06a",
        "colab": {
          "base_uri": "https://localhost:8080/",
          "height": 286
        }
      },
      "source": [
        "plt.imshow(w1)"
      ],
      "execution_count": 0,
      "outputs": [
        {
          "output_type": "execute_result",
          "data": {
            "text/plain": [
              "<matplotlib.image.AxesImage at 0x7ff5d0d11828>"
            ]
          },
          "metadata": {
            "tags": []
          },
          "execution_count": 93
        },
        {
          "output_type": "display_data",
          "data": {
            "image/png": "[encoded data removed]",
            "text/plain": [
              "<Figure size 432x288 with 1 Axes>"
            ]
          },
          "metadata": {
            "tags": []
          }
        }
      ]
    },
    {
      "cell_type": "code",
      "metadata": {
        "id": "R_jC74ZJbatq",
        "colab_type": "code",
        "colab": {}
      },
      "source": [
        "w2=WordCloud(width=1000,height=1000,background_color='white',stopwords=set(STOPWORDS),min_font_size=30).generate(random_low.loc[0,'text'])"
      ],
      "execution_count": 0,
      "outputs": []
    },
    {
      "cell_type": "code",
      "metadata": {
        "id": "MvstrnltcJCS",
        "colab_type": "code",
        "outputId": "9d488f12-fc8e-4ba8-94c0-81903c75795a",
        "colab": {
          "base_uri": "https://localhost:8080/",
          "height": 286
        }
      },
      "source": [
        "plt.imshow(w2)"
      ],
      "execution_count": 0,
      "outputs": [
        {
          "output_type": "execute_result",
          "data": {
            "text/plain": [
              "<matplotlib.image.AxesImage at 0x7ff5d0cccf60>"
            ]
          },
          "metadata": {
            "tags": []
          },
          "execution_count": 95
        },
        {
          "output_type": "display_data",
          "data": {
            "image/png": "[encoded data removed]",
            "text/plain": [
              "<Figure size 432x288 with 1 Axes>"
            ]
          },
          "metadata": {
            "tags": []
          }
        }
      ]
    },
    {
      "cell_type": "code",
      "metadata": {
        "id": "UN6cgIN4cL-t",
        "colab_type": "code",
        "colab": {}
      },
      "source": [
        "random_low=random100[random100['coverage_bin']==\"low\"]"
      ],
      "execution_count": 0,
      "outputs": []
    },
    {
      "cell_type": "code",
      "metadata": {
        "id": "hfHdOPtMD5Ib",
        "colab_type": "code",
        "outputId": "26a81cff-10d0-485d-cd26-0def434407d7",
        "colab": {
          "base_uri": "https://localhost:8080/",
          "height": 632
        }
      },
      "source": [
        "random_low.head()"
      ],
      "execution_count": 0,
      "outputs": [
        {
          "output_type": "execute_result",
          "data": {
            "text/html": [
              "<div>\n",
              "<style scoped>\n",
              "    .dataframe tbody tr th:only-of-type {\n",
              "        vertical-align: middle;\n",
              "    }\n",
              "\n",
              "    .dataframe tbody tr th {\n",
              "        vertical-align: top;\n",
              "    }\n",
              "\n",
              "    .dataframe thead th {\n",
              "        text-align: right;\n",
              "    }\n",
              "</style>\n",
              "<table border=\"1\" class=\"dataframe\">\n",
              "  <thead>\n",
              "    <tr style=\"text-align: right;\">\n",
              "      <th></th>\n",
              "      <th>Unnamed: 0.1</th>\n",
              "      <th>archive</th>\n",
              "      <th>compression</th>\n",
              "      <th>compression_bin</th>\n",
              "      <th>coverage</th>\n",
              "      <th>coverage_bin</th>\n",
              "      <th>date</th>\n",
              "      <th>density</th>\n",
              "      <th>density_bin</th>\n",
              "      <th>summary</th>\n",
              "      <th>text</th>\n",
              "      <th>title</th>\n",
              "      <th>url</th>\n",
              "    </tr>\n",
              "  </thead>\n",
              "  <tbody>\n",
              "    <tr>\n",
              "      <th>0</th>\n",
              "      <td>340997</td>\n",
              "      <td>https://web.archive.org/web/2012022319id_/http...</td>\n",
              "      <td>263.875000</td>\n",
              "      <td>high</td>\n",
              "      <td>0.750000</td>\n",
              "      <td>low</td>\n",
              "      <td>1970-01-01 00:33:32.022319</td>\n",
              "      <td>0.750000</td>\n",
              "      <td>abstractive</td>\n",
              "      <td>All-Star panel weighs in on proposals</td>\n",
              "      <td>['this', 'rush', 'transcript', 'special', 'rep...</td>\n",
              "      <td>Politics of corporate tax plans</td>\n",
              "      <td>http://www.foxnews.com/on-air/special-report/2...</td>\n",
              "    </tr>\n",
              "    <tr>\n",
              "      <th>2</th>\n",
              "      <td>664714</td>\n",
              "      <td>https://web.archive.org/web/2016020819id_/http...</td>\n",
              "      <td>20.914286</td>\n",
              "      <td>medium</td>\n",
              "      <td>0.714286</td>\n",
              "      <td>low</td>\n",
              "      <td>1970-01-01 00:33:36.020819</td>\n",
              "      <td>2.828571</td>\n",
              "      <td>mixed</td>\n",
              "      <td>‘Climate change is real and it is with us,’ sa...</td>\n",
              "      <td>['the', 'u', 'forest', 'service', 'warned', 't...</td>\n",
              "      <td>US Forest Service stretched to breaking point ...</td>\n",
              "      <td>http://www.theguardian.com/world/2016/feb/08/u...</td>\n",
              "    </tr>\n",
              "    <tr>\n",
              "      <th>9</th>\n",
              "      <td>221274</td>\n",
              "      <td>https://web.archive.org/web/2013043019id_/http...</td>\n",
              "      <td>90.250000</td>\n",
              "      <td>high</td>\n",
              "      <td>0.750000</td>\n",
              "      <td>low</td>\n",
              "      <td>1970-01-01 00:33:33.043019</td>\n",
              "      <td>1.083333</td>\n",
              "      <td>abstractive</td>\n",
              "      <td>NHL Preview for the Minnesota vs Chicago game ...</td>\n",
              "      <td>['chicago', 'ap', 'for', 'accomplishment', 'fa...</td>\n",
              "      <td>Minnesota vs Chicago - Preview - NHL - Sports ...</td>\n",
              "      <td>http://www.cbc.ca/sports/hockey/nhl/game/13226...</td>\n",
              "    </tr>\n",
              "    <tr>\n",
              "      <th>18</th>\n",
              "      <td>57069</td>\n",
              "      <td>http://web.archive.org/web/20160603025338id_/h...</td>\n",
              "      <td>29.166667</td>\n",
              "      <td>medium</td>\n",
              "      <td>0.416667</td>\n",
              "      <td>low</td>\n",
              "      <td>1970-08-22 08:10:03.025338</td>\n",
              "      <td>0.583333</td>\n",
              "      <td>abstractive</td>\n",
              "      <td>But now he does know some things about his cha...</td>\n",
              "      <td>['hbo', 'game', 'throne', 'known', 'surprise',...</td>\n",
              "      <td>'Game of Thrones' Red Wedding Actor Didn't Kno...</td>\n",
              "      <td>http://time.com/4351789/game-of-thrones-red-we...</td>\n",
              "    </tr>\n",
              "    <tr>\n",
              "      <th>19</th>\n",
              "      <td>464739</td>\n",
              "      <td>https://web.archive.org/web/2013092519id_/http...</td>\n",
              "      <td>41.300000</td>\n",
              "      <td>high</td>\n",
              "      <td>0.650000</td>\n",
              "      <td>low</td>\n",
              "      <td>1970-01-01 00:33:33.092519</td>\n",
              "      <td>4.700000</td>\n",
              "      <td>mixed</td>\n",
              "      <td>BY DAVID HINCKLEY\\n\\n\\t\\n\\n\\t'You can check ou...</td>\n",
              "      <td>['you', 'check', 'time', 'like', 'eagle', 'obs...</td>\n",
              "      <td>'Breaking Bad' Season 5, Episode 15 recap: Wal...</td>\n",
              "      <td>http://www.nydailynews.com/blogs/channel-surfe...</td>\n",
              "    </tr>\n",
              "  </tbody>\n",
              "</table>\n",
              "</div>"
            ],
            "text/plain": [
              "    Unnamed: 0.1  ...                                                url\n",
              "0         340997  ...  http://www.foxnews.com/on-air/special-report/2...\n",
              "2         664714  ...  http://www.theguardian.com/world/2016/feb/08/u...\n",
              "9         221274  ...  http://www.cbc.ca/sports/hockey/nhl/game/13226...\n",
              "18         57069  ...  http://time.com/4351789/game-of-thrones-red-we...\n",
              "19        464739  ...  http://www.nydailynews.com/blogs/channel-surfe...\n",
              "\n",
              "[5 rows x 13 columns]"
            ]
          },
          "metadata": {
            "tags": []
          },
          "execution_count": 87
        }
      ]
    },
    {
      "cell_type": "code",
      "metadata": {
        "id": "oBf72Mko92XL",
        "colab_type": "code",
        "colab": {}
      },
      "source": [
        "random_medium=random100[random100['coverage_bin']==\"medium\"]"
      ],
      "execution_count": 0,
      "outputs": []
    },
    {
      "cell_type": "code",
      "metadata": {
        "id": "b6zEEGw49_tg",
        "colab_type": "code",
        "colab": {}
      },
      "source": [
        "random_high=random100[random100['coverage_bin']==\"high\"]"
      ],
      "execution_count": 0,
      "outputs": []
    },
    {
      "cell_type": "code",
      "metadata": {
        "id": "Fvnco83HEDho",
        "colab_type": "code",
        "outputId": "77bcd59e-cd28-4f87-a5ab-e1470ae09378",
        "colab": {
          "base_uri": "https://localhost:8080/",
          "height": 666
        }
      },
      "source": [
        "random_high.head()"
      ],
      "execution_count": 0,
      "outputs": [
        {
          "output_type": "execute_result",
          "data": {
            "text/html": [
              "<div>\n",
              "<style scoped>\n",
              "    .dataframe tbody tr th:only-of-type {\n",
              "        vertical-align: middle;\n",
              "    }\n",
              "\n",
              "    .dataframe tbody tr th {\n",
              "        vertical-align: top;\n",
              "    }\n",
              "\n",
              "    .dataframe thead th {\n",
              "        text-align: right;\n",
              "    }\n",
              "</style>\n",
              "<table border=\"1\" class=\"dataframe\">\n",
              "  <thead>\n",
              "    <tr style=\"text-align: right;\">\n",
              "      <th></th>\n",
              "      <th>Unnamed: 0.1</th>\n",
              "      <th>archive</th>\n",
              "      <th>compression</th>\n",
              "      <th>compression_bin</th>\n",
              "      <th>coverage</th>\n",
              "      <th>coverage_bin</th>\n",
              "      <th>date</th>\n",
              "      <th>density</th>\n",
              "      <th>density_bin</th>\n",
              "      <th>summary</th>\n",
              "      <th>text</th>\n",
              "      <th>title</th>\n",
              "      <th>url</th>\n",
              "    </tr>\n",
              "  </thead>\n",
              "  <tbody>\n",
              "    <tr>\n",
              "      <th>0</th>\n",
              "      <td>340997</td>\n",
              "      <td>https://web.archive.org/web/2012022319id_/http...</td>\n",
              "      <td>263.875000</td>\n",
              "      <td>high</td>\n",
              "      <td>0.750000</td>\n",
              "      <td>low</td>\n",
              "      <td>1970-01-01 00:33:32.022319</td>\n",
              "      <td>0.750000</td>\n",
              "      <td>abstractive</td>\n",
              "      <td>All-Star panel weighs in on proposals</td>\n",
              "      <td>['this', 'rush', 'transcript', 'special', 'rep...</td>\n",
              "      <td>Politics of corporate tax plans</td>\n",
              "      <td>http://www.foxnews.com/on-air/special-report/2...</td>\n",
              "    </tr>\n",
              "    <tr>\n",
              "      <th>1</th>\n",
              "      <td>236243</td>\n",
              "      <td>https://web.archive.org/web/2014050719id_/http...</td>\n",
              "      <td>61.619048</td>\n",
              "      <td>high</td>\n",
              "      <td>1.000000</td>\n",
              "      <td>high</td>\n",
              "      <td>1970-01-01 00:33:34.050719</td>\n",
              "      <td>11.666667</td>\n",
              "      <td>extractive</td>\n",
              "      <td>Russian President Vladimir Putin wants a delay...</td>\n",
              "      <td>['mariupol', 'ukraine', 'cnn', 'russian', 'pre...</td>\n",
              "      <td>Report: Putin wants delay in referendum in Ukr...</td>\n",
              "      <td>http://www.cnn.com/2014/05/07/world/europe/ukr...</td>\n",
              "    </tr>\n",
              "    <tr>\n",
              "      <th>6</th>\n",
              "      <td>172910</td>\n",
              "      <td>http://web.archive.org/web/20160703043637id_/h...</td>\n",
              "      <td>37.035714</td>\n",
              "      <td>high</td>\n",
              "      <td>1.000000</td>\n",
              "      <td>high</td>\n",
              "      <td>1970-08-22 08:11:43.043637</td>\n",
              "      <td>7.500000</td>\n",
              "      <td>mixed</td>\n",
              "      <td>A 92-year old man's attempts to buy back the h...</td>\n",
              "      <td>['after', 'raising', 'money', 'internet', 'don...</td>\n",
              "      <td>Ohio 92-Year Old's Offer to Buy Back Home from...</td>\n",
              "      <td>http://abcnews.go.com/Business/ohio-92-year-ol...</td>\n",
              "    </tr>\n",
              "    <tr>\n",
              "      <th>8</th>\n",
              "      <td>238599</td>\n",
              "      <td>https://web.archive.org/web/2013122019id_/http...</td>\n",
              "      <td>72.318182</td>\n",
              "      <td>high</td>\n",
              "      <td>0.909091</td>\n",
              "      <td>medium</td>\n",
              "      <td>1970-01-01 00:33:33.122019</td>\n",
              "      <td>2.090909</td>\n",
              "      <td>mixed</td>\n",
              "      <td>The arrest and detention of an Indian consular...</td>\n",
              "      <td>['cnn', 'the', 'attorney', 'indian', 'diplomat...</td>\n",
              "      <td>Strip-searched Indian diplomat's attorney: U.S...</td>\n",
              "      <td>http://www.cnn.com/2013/12/19/politics/india-u...</td>\n",
              "    </tr>\n",
              "    <tr>\n",
              "      <th>9</th>\n",
              "      <td>221274</td>\n",
              "      <td>https://web.archive.org/web/2013043019id_/http...</td>\n",
              "      <td>90.250000</td>\n",
              "      <td>high</td>\n",
              "      <td>0.750000</td>\n",
              "      <td>low</td>\n",
              "      <td>1970-01-01 00:33:33.043019</td>\n",
              "      <td>1.083333</td>\n",
              "      <td>abstractive</td>\n",
              "      <td>NHL Preview for the Minnesota vs Chicago game ...</td>\n",
              "      <td>['chicago', 'ap', 'for', 'accomplishment', 'fa...</td>\n",
              "      <td>Minnesota vs Chicago - Preview - NHL - Sports ...</td>\n",
              "      <td>http://www.cbc.ca/sports/hockey/nhl/game/13226...</td>\n",
              "    </tr>\n",
              "  </tbody>\n",
              "</table>\n",
              "</div>"
            ],
            "text/plain": [
              "   Unnamed: 0.1  ...                                                url\n",
              "0        340997  ...  http://www.foxnews.com/on-air/special-report/2...\n",
              "1        236243  ...  http://www.cnn.com/2014/05/07/world/europe/ukr...\n",
              "6        172910  ...  http://abcnews.go.com/Business/ohio-92-year-ol...\n",
              "8        238599  ...  http://www.cnn.com/2013/12/19/politics/india-u...\n",
              "9        221274  ...  http://www.cbc.ca/sports/hockey/nhl/game/13226...\n",
              "\n",
              "[5 rows x 13 columns]"
            ]
          },
          "metadata": {
            "tags": []
          },
          "execution_count": 71
        }
      ]
    },
    {
      "cell_type": "code",
      "metadata": {
        "id": "J53OlLXI-xFh",
        "colab_type": "code",
        "colab": {}
      },
      "source": [
        "random_low.reset_index(drop=True,inplace=True)\n",
        "random_medium.reset_index(drop=True,inplace=True)\n",
        "random_high.reset_index(drop=True,inplace=True)"
      ],
      "execution_count": 0,
      "outputs": []
    },
    {
      "cell_type": "code",
      "metadata": {
        "id": "hJtXNhe0-E2F",
        "colab_type": "code",
        "colab": {}
      },
      "source": [
        "w1=WordCloud(width=800,height=800,background_color='white',stopwords=set(STOPWORDS),min_font_size=10).generate(random_low.loc[1,'summary'])"
      ],
      "execution_count": 0,
      "outputs": []
    },
    {
      "cell_type": "code",
      "metadata": {
        "id": "Cz9Mzu2L-LmQ",
        "colab_type": "code",
        "outputId": "8707d840-4362-4d6a-bc45-3e1937fe05f7",
        "colab": {
          "base_uri": "https://localhost:8080/",
          "height": 286
        }
      },
      "source": [
        "plt.imshow(w1)"
      ],
      "execution_count": 0,
      "outputs": [
        {
          "output_type": "execute_result",
          "data": {
            "text/plain": [
              "<matplotlib.image.AxesImage at 0x7ff5d0c48668>"
            ]
          },
          "metadata": {
            "tags": []
          },
          "execution_count": 97
        },
        {
          "output_type": "display_data",
          "data": {
            "image/png": "[encoded data removed]",
            "text/plain": [
              "<Figure size 432x288 with 1 Axes>"
            ]
          },
          "metadata": {
            "tags": []
          }
        }
      ]
    },
    {
      "cell_type": "code",
      "metadata": {
        "id": "PZBzG1OQ_Wdy",
        "colab_type": "code",
        "colab": {}
      },
      "source": [
        "w2=WordCloud(width=1000,height=1000,background_color='white',stopwords=set(STOPWORDS),min_font_size=30).generate(random_low.loc[1,'text'])"
      ],
      "execution_count": 0,
      "outputs": []
    },
    {
      "cell_type": "code",
      "metadata": {
        "id": "eyazcT0a_bzL",
        "colab_type": "code",
        "outputId": "b672d016-94aa-445d-cd5d-ebd1291ee451",
        "colab": {
          "base_uri": "https://localhost:8080/",
          "height": 286
        }
      },
      "source": [
        "plt.imshow(w2)"
      ],
      "execution_count": 0,
      "outputs": [
        {
          "output_type": "execute_result",
          "data": {
            "text/plain": [
              "<matplotlib.image.AxesImage at 0x7ff5d0c09668>"
            ]
          },
          "metadata": {
            "tags": []
          },
          "execution_count": 99
        },
        {
          "output_type": "display_data",
          "data": {
            "image/png": "[encoded data removed]",
            "text/plain": [
              "<Figure size 432x288 with 1 Axes>"
            ]
          },
          "metadata": {
            "tags": []
          }
        }
      ]
    },
    {
      "cell_type": "markdown",
      "metadata": {
        "id": "VHkjJGtT_oNf",
        "colab_type": "text"
      },
      "source": [
        "**Medium Coverage Word Clouds**"
      ]
    },
    {
      "cell_type": "code",
      "metadata": {
        "id": "sQCCEEyqEaWa",
        "colab_type": "code",
        "outputId": "98787435-7f40-4d12-8c36-3447b9889c5d",
        "colab": {
          "base_uri": "https://localhost:8080/",
          "height": 1000
        }
      },
      "source": [
        "random_medium"
      ],
      "execution_count": 0,
      "outputs": [
        {
          "output_type": "execute_result",
          "data": {
            "text/html": [
              "<div>\n",
              "<style scoped>\n",
              "    .dataframe tbody tr th:only-of-type {\n",
              "        vertical-align: middle;\n",
              "    }\n",
              "\n",
              "    .dataframe tbody tr th {\n",
              "        vertical-align: top;\n",
              "    }\n",
              "\n",
              "    .dataframe thead th {\n",
              "        text-align: right;\n",
              "    }\n",
              "</style>\n",
              "<table border=\"1\" class=\"dataframe\">\n",
              "  <thead>\n",
              "    <tr style=\"text-align: right;\">\n",
              "      <th></th>\n",
              "      <th>Unnamed: 0.1</th>\n",
              "      <th>archive</th>\n",
              "      <th>compression</th>\n",
              "      <th>compression_bin</th>\n",
              "      <th>coverage</th>\n",
              "      <th>coverage_bin</th>\n",
              "      <th>date</th>\n",
              "      <th>density</th>\n",
              "      <th>density_bin</th>\n",
              "      <th>summary</th>\n",
              "      <th>text</th>\n",
              "      <th>title</th>\n",
              "      <th>url</th>\n",
              "    </tr>\n",
              "  </thead>\n",
              "  <tbody>\n",
              "    <tr>\n",
              "      <th>0</th>\n",
              "      <td>664714</td>\n",
              "      <td>https://web.archive.org/web/2016020819id_/http...</td>\n",
              "      <td>20.914286</td>\n",
              "      <td>medium</td>\n",
              "      <td>0.714286</td>\n",
              "      <td>low</td>\n",
              "      <td>1970-01-01 00:33:36.020819</td>\n",
              "      <td>2.828571</td>\n",
              "      <td>mixed</td>\n",
              "      <td>‘Climate change is real and it is with us,’ sa...</td>\n",
              "      <td>['the', 'u', 'forest', 'service', 'warned', 't...</td>\n",
              "      <td>US Forest Service stretched to breaking point ...</td>\n",
              "      <td>http://www.theguardian.com/world/2016/feb/08/u...</td>\n",
              "    </tr>\n",
              "    <tr>\n",
              "      <th>1</th>\n",
              "      <td>468134</td>\n",
              "      <td>https://web.archive.org/web/2013042119id_/http...</td>\n",
              "      <td>20.469388</td>\n",
              "      <td>medium</td>\n",
              "      <td>1.000000</td>\n",
              "      <td>high</td>\n",
              "      <td>1970-01-01 00:33:33.042119</td>\n",
              "      <td>17.775510</td>\n",
              "      <td>extractive</td>\n",
              "      <td>He stands 5-8 and weighs 178 pounds, and a few...</td>\n",
              "      <td>['tavon', 'austin', 'stand', 'weighs', 'pound'...</td>\n",
              "      <td>West Virginia’s Tavon Austin has NFL teams thi...</td>\n",
              "      <td>http://www.nydailynews.com/sports/football/aus...</td>\n",
              "    </tr>\n",
              "    <tr>\n",
              "      <th>2</th>\n",
              "      <td>254770</td>\n",
              "      <td>https://web.archive.org/web/2012082119id_/http...</td>\n",
              "      <td>35.200000</td>\n",
              "      <td>medium</td>\n",
              "      <td>1.000000</td>\n",
              "      <td>high</td>\n",
              "      <td>1970-01-01 00:33:32.082119</td>\n",
              "      <td>25.000000</td>\n",
              "      <td>extractive</td>\n",
              "      <td>The upcoming ninth season of NBC's \"The Office...</td>\n",
              "      <td>['updated', 'pm', 'edt', 'tue', 'august', 'the...</td>\n",
              "      <td>'The Office' shuts down after this year</td>\n",
              "      <td>http://www.cnn.com/2012/08/21/showbiz/office-e...</td>\n",
              "    </tr>\n",
              "    <tr>\n",
              "      <th>3</th>\n",
              "      <td>136061</td>\n",
              "      <td>http://web.archive.org/web/20160715062804id_/h...</td>\n",
              "      <td>31.812500</td>\n",
              "      <td>medium</td>\n",
              "      <td>0.875000</td>\n",
              "      <td>medium</td>\n",
              "      <td>1970-08-22 08:11:55.062804</td>\n",
              "      <td>1.875000</td>\n",
              "      <td>mixed</td>\n",
              "      <td>This is the third live-streaming video deal Tw...</td>\n",
              "      <td>['twitter', 'ramping', 'commitment', 'streamin...</td>\n",
              "      <td>Twitter Signs Another Live-Streaming Deal, Thi...</td>\n",
              "      <td>http://fortune.com/2016/07/12/twitter-live-blo...</td>\n",
              "    </tr>\n",
              "    <tr>\n",
              "      <th>4</th>\n",
              "      <td>307240</td>\n",
              "      <td>https://web.archive.org/web/2016020719id_/http...</td>\n",
              "      <td>23.217391</td>\n",
              "      <td>medium</td>\n",
              "      <td>0.913043</td>\n",
              "      <td>medium</td>\n",
              "      <td>1970-01-01 00:33:36.020719</td>\n",
              "      <td>4.217391</td>\n",
              "      <td>mixed</td>\n",
              "      <td>An Afghan official says the government expects...</td>\n",
              "      <td>['kabul', 'afghanistan', 'afghanistan', 'expec...</td>\n",
              "      <td>Afghanistan expects talks with Taliban this month</td>\n",
              "      <td>http://www.foxnews.com/world/2016/02/07/afghan...</td>\n",
              "    </tr>\n",
              "    <tr>\n",
              "      <th>5</th>\n",
              "      <td>260205</td>\n",
              "      <td>https://web.archive.org/web/2011122419id_/http...</td>\n",
              "      <td>28.900000</td>\n",
              "      <td>medium</td>\n",
              "      <td>1.000000</td>\n",
              "      <td>high</td>\n",
              "      <td>1970-01-01 00:33:31.122419</td>\n",
              "      <td>4.800000</td>\n",
              "      <td>mixed</td>\n",
              "      <td>Dozens of people have been killed after Islami...</td>\n",
              "      <td>['by', 'monica', 'mark', 'cnn', 'updated', 'pm...</td>\n",
              "      <td>Dozens killed in Nigeria fighting</td>\n",
              "      <td>http://www.cnn.com/2011/12/24/world/africa/nig...</td>\n",
              "    </tr>\n",
              "    <tr>\n",
              "      <th>6</th>\n",
              "      <td>210584</td>\n",
              "      <td>https://web.archive.org/web/2016052119id_/http...</td>\n",
              "      <td>34.102564</td>\n",
              "      <td>medium</td>\n",
              "      <td>0.974359</td>\n",
              "      <td>high</td>\n",
              "      <td>1970-01-01 00:33:36.052119</td>\n",
              "      <td>27.179487</td>\n",
              "      <td>extractive</td>\n",
              "      <td>U.S. stocks rose, with the S&amp;amp;P 500 rebound...</td>\n",
              "      <td>['stock', 'rose', 's', 'p', 'rebounding', 'low...</td>\n",
              "      <td>U.S. Stocks Climb as Tech Shares Rally While R...</td>\n",
              "      <td>http://www.bloomberg.com/news/articles/2016-05...</td>\n",
              "    </tr>\n",
              "    <tr>\n",
              "      <th>7</th>\n",
              "      <td>513953</td>\n",
              "      <td>https://web.archive.org/web/2016092619id_/http...</td>\n",
              "      <td>30.043478</td>\n",
              "      <td>medium</td>\n",
              "      <td>1.000000</td>\n",
              "      <td>high</td>\n",
              "      <td>1970-01-01 00:33:36.092619</td>\n",
              "      <td>3.869565</td>\n",
              "      <td>mixed</td>\n",
              "      <td>At some colleges students introduce themselves...</td>\n",
              "      <td>['my', 'fall', 'class', 'started', 'recently',...</td>\n",
              "      <td>The New York Times</td>\n",
              "      <td>http://www.nytimes.com/2016/09/26/opinion/pron...</td>\n",
              "    </tr>\n",
              "    <tr>\n",
              "      <th>8</th>\n",
              "      <td>57069</td>\n",
              "      <td>http://web.archive.org/web/20160603025338id_/h...</td>\n",
              "      <td>29.166667</td>\n",
              "      <td>medium</td>\n",
              "      <td>0.416667</td>\n",
              "      <td>low</td>\n",
              "      <td>1970-08-22 08:10:03.025338</td>\n",
              "      <td>0.583333</td>\n",
              "      <td>abstractive</td>\n",
              "      <td>But now he does know some things about his cha...</td>\n",
              "      <td>['hbo', 'game', 'throne', 'known', 'surprise',...</td>\n",
              "      <td>'Game of Thrones' Red Wedding Actor Didn't Kno...</td>\n",
              "      <td>http://time.com/4351789/game-of-thrones-red-we...</td>\n",
              "    </tr>\n",
              "    <tr>\n",
              "      <th>9</th>\n",
              "      <td>803781</td>\n",
              "      <td>https://web.archive.org/web/2012081219id_/http...</td>\n",
              "      <td>18.850000</td>\n",
              "      <td>medium</td>\n",
              "      <td>0.550000</td>\n",
              "      <td>low</td>\n",
              "      <td>1970-01-01 00:33:32.081219</td>\n",
              "      <td>1.150000</td>\n",
              "      <td>abstractive</td>\n",
              "      <td>Collection of all USATODAY.com coverage of Str...</td>\n",
              "      <td>['by', 'jonathan', 'fahey', 'associated', 'pre...</td>\n",
              "      <td>Strait of Hormuz Topics Page</td>\n",
              "      <td>http://content.usatoday.com/topics/topic/Strai...</td>\n",
              "    </tr>\n",
              "    <tr>\n",
              "      <th>10</th>\n",
              "      <td>869531</td>\n",
              "      <td>https://web.archive.org/web/2010120819id_/http...</td>\n",
              "      <td>15.756757</td>\n",
              "      <td>medium</td>\n",
              "      <td>0.945946</td>\n",
              "      <td>high</td>\n",
              "      <td>1970-01-01 00:33:30.120819</td>\n",
              "      <td>3.324324</td>\n",
              "      <td>mixed</td>\n",
              "      <td>The Washington Nationals' signing of free agen...</td>\n",
              "      <td>['the', 'lerner', 'burned', 'million', 'congra...</td>\n",
              "      <td>Lerners gamble with Washington Nationals' sign...</td>\n",
              "      <td>http://www.washingtonpost.com/wp-dyn/content/a...</td>\n",
              "    </tr>\n",
              "    <tr>\n",
              "      <th>11</th>\n",
              "      <td>733782</td>\n",
              "      <td>https://web.archive.org/web/2014093019id_/http...</td>\n",
              "      <td>26.300000</td>\n",
              "      <td>medium</td>\n",
              "      <td>0.750000</td>\n",
              "      <td>low</td>\n",
              "      <td>1970-01-01 00:33:34.093019</td>\n",
              "      <td>1.450000</td>\n",
              "      <td>abstractive</td>\n",
              "      <td>News Corp. has acquired Move Inc., putting Mur...</td>\n",
              "      <td>['home', 'buyer', 'take', 'note', 'next', 'hou...</td>\n",
              "      <td>Rupert Murdoch Wants to Sell You Your Next Home</td>\n",
              "      <td>http://time.com/money/3449952/rupert-murdoch-n...</td>\n",
              "    </tr>\n",
              "    <tr>\n",
              "      <th>12</th>\n",
              "      <td>198546</td>\n",
              "      <td>https://web.archive.org/web/2009050719id_/http...</td>\n",
              "      <td>18.222222</td>\n",
              "      <td>medium</td>\n",
              "      <td>0.388889</td>\n",
              "      <td>low</td>\n",
              "      <td>1970-01-01 00:33:29.050719</td>\n",
              "      <td>0.500000</td>\n",
              "      <td>abstractive</td>\n",
              "      <td>Gourmets Food Editors raided old family recip...</td>\n",
              "      <td>['gourmetcajun', 'chicken', 'stewwhen', 'i', '...</td>\n",
              "      <td>Gourmet's Mother Lode</td>\n",
              "      <td>http://food.aol.com/gourmet/mothers-day</td>\n",
              "    </tr>\n",
              "    <tr>\n",
              "      <th>13</th>\n",
              "      <td>263011</td>\n",
              "      <td>https://web.archive.org/web/2011080319id_/http...</td>\n",
              "      <td>32.595238</td>\n",
              "      <td>medium</td>\n",
              "      <td>1.000000</td>\n",
              "      <td>high</td>\n",
              "      <td>1970-01-01 00:33:31.080319</td>\n",
              "      <td>42.000000</td>\n",
              "      <td>extractive</td>\n",
              "      <td>Texas prosecutors rested their case Wednesday ...</td>\n",
              "      <td>['did', 'jeffs', 'tape', 'intercourse', 'child...</td>\n",
              "      <td>Prosecution rests in polygamist sect leader trial</td>\n",
              "      <td>http://www.cnn.com/2011/CRIME/08/03/texas.poly...</td>\n",
              "    </tr>\n",
              "    <tr>\n",
              "      <th>14</th>\n",
              "      <td>338648</td>\n",
              "      <td>https://web.archive.org/web/2012061119id_/http...</td>\n",
              "      <td>33.794118</td>\n",
              "      <td>medium</td>\n",
              "      <td>0.941176</td>\n",
              "      <td>medium</td>\n",
              "      <td>1970-01-01 00:33:32.061119</td>\n",
              "      <td>30.117647</td>\n",
              "      <td>extractive</td>\n",
              "      <td>Megachurch pastor Creflo Dollar staunchly deni...</td>\n",
              "      <td>['college', 'park', 'megachurch', 'pastor', 'c...</td>\n",
              "      <td>Creflo Dollar denies punching, choking daughter</td>\n",
              "      <td>http://www.foxnews.com/us/2012/06/10/creflo-do...</td>\n",
              "    </tr>\n",
              "    <tr>\n",
              "      <th>15</th>\n",
              "      <td>927975</td>\n",
              "      <td>https://web.archive.org/web/2014102019id_/http...</td>\n",
              "      <td>24.071429</td>\n",
              "      <td>medium</td>\n",
              "      <td>1.000000</td>\n",
              "      <td>high</td>\n",
              "      <td>1970-01-01 00:33:34.102019</td>\n",
              "      <td>14.000000</td>\n",
              "      <td>extractive</td>\n",
              "      <td>Fans get fired up for the World Series in all ...</td>\n",
              "      <td>['fan', 'get', 'fired', 'world', 'series', 'ki...</td>\n",
              "      <td>San Francisco radio stations won't play Lorde'...</td>\n",
              "      <td>http://www.foxnews.com/entertainment/2014/10/2...</td>\n",
              "    </tr>\n",
              "    <tr>\n",
              "      <th>16</th>\n",
              "      <td>193267</td>\n",
              "      <td>https://web.archive.org/web/2013062719id_/http...</td>\n",
              "      <td>34.250000</td>\n",
              "      <td>medium</td>\n",
              "      <td>0.812500</td>\n",
              "      <td>medium</td>\n",
              "      <td>1970-01-01 00:33:33.062719</td>\n",
              "      <td>1.437500</td>\n",
              "      <td>abstractive</td>\n",
              "      <td>President's proposals for combating global cli...</td>\n",
              "      <td>['u', 'president', 'barack', 'obama', 'unveile...</td>\n",
              "      <td>Obama fulfils a campaign promise</td>\n",
              "      <td>http://blogs.aljazeera.com/blog/americas/obama...</td>\n",
              "    </tr>\n",
              "    <tr>\n",
              "      <th>17</th>\n",
              "      <td>717369</td>\n",
              "      <td>https://web.archive.org/web/2016101119id_/http...</td>\n",
              "      <td>18.105263</td>\n",
              "      <td>medium</td>\n",
              "      <td>0.894737</td>\n",
              "      <td>medium</td>\n",
              "      <td>1970-01-01 00:33:36.101119</td>\n",
              "      <td>9.421053</td>\n",
              "      <td>extractive</td>\n",
              "      <td>BULLIES accused of violently attacking a 13-ye...</td>\n",
              "      <td>['bully', 'accused', 'violently', 'attacking',...</td>\n",
              "      <td>Horrifying moment girl, 13, is battered by old...</td>\n",
              "      <td>https://www.thesun.co.uk/news/1954548/horrifyi...</td>\n",
              "    </tr>\n",
              "    <tr>\n",
              "      <th>18</th>\n",
              "      <td>611623</td>\n",
              "      <td>https://web.archive.org/web/2016110619id_/http...</td>\n",
              "      <td>27.416667</td>\n",
              "      <td>medium</td>\n",
              "      <td>0.916667</td>\n",
              "      <td>medium</td>\n",
              "      <td>1970-01-01 00:33:36.110619</td>\n",
              "      <td>4.583333</td>\n",
              "      <td>mixed</td>\n",
              "      <td>Harris and Swift’s track went double platinum ...</td>\n",
              "      <td>['calvin', 'harris', 'message', 'taylor', 'swi...</td>\n",
              "      <td>Calvin Harris Is 'Blessed to Work' with Taylor...</td>\n",
              "      <td>http://people.com/music/calvin-harris-says-hes...</td>\n",
              "    </tr>\n",
              "    <tr>\n",
              "      <th>19</th>\n",
              "      <td>554610</td>\n",
              "      <td>https://web.archive.org/web/2012042219id_/http...</td>\n",
              "      <td>34.928571</td>\n",
              "      <td>medium</td>\n",
              "      <td>0.928571</td>\n",
              "      <td>medium</td>\n",
              "      <td>1970-01-01 00:33:32.042219</td>\n",
              "      <td>7.142857</td>\n",
              "      <td>mixed</td>\n",
              "      <td>Mixing policy and politics, President Obama is...</td>\n",
              "      <td>['luke', 'sharrett', 'the', 'new', 'york', 'ti...</td>\n",
              "      <td>âPresidentialâ vs. âPoliticalâ Trips</td>\n",
              "      <td>http://www.nytimes.com/2012/04/22/us/politics/...</td>\n",
              "    </tr>\n",
              "    <tr>\n",
              "      <th>20</th>\n",
              "      <td>770752</td>\n",
              "      <td>https://web.archive.org/web/2012032019id_/http...</td>\n",
              "      <td>24.222222</td>\n",
              "      <td>medium</td>\n",
              "      <td>0.944444</td>\n",
              "      <td>high</td>\n",
              "      <td>1970-01-01 00:33:32.032019</td>\n",
              "      <td>9.722222</td>\n",
              "      <td>extractive</td>\n",
              "      <td>The fourth album from the indie rockers and th...</td>\n",
              "      <td>['the', 'fourth', 'album', 'indie', 'rocker', ...</td>\n",
              "      <td>Listen Up: The Shins' 'Port of Morrow' lacks a...</td>\n",
              "      <td>http://www.usatoday.com/life/music/reviews/sto...</td>\n",
              "    </tr>\n",
              "    <tr>\n",
              "      <th>21</th>\n",
              "      <td>672464</td>\n",
              "      <td>https://web.archive.org/web/2015072819id_/http...</td>\n",
              "      <td>31.428571</td>\n",
              "      <td>medium</td>\n",
              "      <td>0.816327</td>\n",
              "      <td>medium</td>\n",
              "      <td>1970-01-01 00:33:35.072819</td>\n",
              "      <td>1.795918</td>\n",
              "      <td>mixed</td>\n",
              "      <td>He doesn’t get radio play, he releases music f...</td>\n",
              "      <td>['chance', 'rapper', 'sort', 'man', 'find', 'm...</td>\n",
              "      <td>Chance the Rapper: 'I once wanted Kanye West t...</td>\n",
              "      <td>http://www.theguardian.com/music/2015/jul/28/c...</td>\n",
              "    </tr>\n",
              "    <tr>\n",
              "      <th>22</th>\n",
              "      <td>21511</td>\n",
              "      <td>http://web.archive.org/web/20160830171228id_/h...</td>\n",
              "      <td>20.296296</td>\n",
              "      <td>medium</td>\n",
              "      <td>0.777778</td>\n",
              "      <td>low</td>\n",
              "      <td>1970-08-22 08:13:50.171228</td>\n",
              "      <td>1.296296</td>\n",
              "      <td>abstractive</td>\n",
              "      <td>Former AFL player Albert Proud bashed his form...</td>\n",
              "      <td>['albert', 'proud', 'former', 'girlfriend', 'r...</td>\n",
              "      <td>Proud jailed for brutal bashing of ex</td>\n",
              "      <td>http://www.9news.com.au/national/2016/08/29/12...</td>\n",
              "    </tr>\n",
              "    <tr>\n",
              "      <th>23</th>\n",
              "      <td>207793</td>\n",
              "      <td>https://web.archive.org/web/2012021419id_/http...</td>\n",
              "      <td>26.500000</td>\n",
              "      <td>medium</td>\n",
              "      <td>0.875000</td>\n",
              "      <td>medium</td>\n",
              "      <td>1970-01-01 00:33:32.021419</td>\n",
              "      <td>2.000000</td>\n",
              "      <td>mixed</td>\n",
              "      <td>Celebrate Valentineâs Day with more than flo...</td>\n",
              "      <td>['suite', 'poconos', 'palace', 'east', 'stroud...</td>\n",
              "      <td>Odd spots for romance : Romance</td>\n",
              "      <td>http://www.bbc.com/travel/blog/20120213-worldw...</td>\n",
              "    </tr>\n",
              "    <tr>\n",
              "      <th>24</th>\n",
              "      <td>672019</td>\n",
              "      <td>https://web.archive.org/web/2015080719id_/http...</td>\n",
              "      <td>25.800000</td>\n",
              "      <td>medium</td>\n",
              "      <td>0.720000</td>\n",
              "      <td>low</td>\n",
              "      <td>1970-01-01 00:33:35.080719</td>\n",
              "      <td>1.120000</td>\n",
              "      <td>abstractive</td>\n",
              "      <td>Government says claim that cabinet chief Aníba...</td>\n",
              "      <td>['lurid', 'allegation', 'murder', 'drug', 'smu...</td>\n",
              "      <td>Murder and drug trafficking allegations cast p...</td>\n",
              "      <td>http://www.theguardian.com/world/2015/aug/07/a...</td>\n",
              "    </tr>\n",
              "    <tr>\n",
              "      <th>25</th>\n",
              "      <td>303967</td>\n",
              "      <td>https://web.archive.org/web/2014101919id_/http...</td>\n",
              "      <td>27.586207</td>\n",
              "      <td>medium</td>\n",
              "      <td>0.724138</td>\n",
              "      <td>low</td>\n",
              "      <td>1970-01-01 00:33:34.101919</td>\n",
              "      <td>1.068966</td>\n",
              "      <td>abstractive</td>\n",
              "      <td>A declining stock market should not be a conce...</td>\n",
              "      <td>['a', 'good', 'friend', 'sent', 'text', 'day',...</td>\n",
              "      <td>5 Benefits Of A Falling Market</td>\n",
              "      <td>http://www.forbes.com/sites/robertberger/2014/...</td>\n",
              "    </tr>\n",
              "    <tr>\n",
              "      <th>26</th>\n",
              "      <td>338524</td>\n",
              "      <td>https://web.archive.org/web/2012061719id_/http...</td>\n",
              "      <td>34.909091</td>\n",
              "      <td>medium</td>\n",
              "      <td>0.840909</td>\n",
              "      <td>medium</td>\n",
              "      <td>1970-01-01 00:33:32.061719</td>\n",
              "      <td>1.931818</td>\n",
              "      <td>mixed</td>\n",
              "      <td>If a top Syrian diplomat's daughter boasted on...</td>\n",
              "      <td>['if', 'syrian', 'beauty', 'sherry', 'jaafari'...</td>\n",
              "      <td>Syrian siren's Ivy League dream could be undon...</td>\n",
              "      <td>http://www.foxnews.com/us/2012/06/14/syria-dip...</td>\n",
              "    </tr>\n",
              "    <tr>\n",
              "      <th>27</th>\n",
              "      <td>441839</td>\n",
              "      <td>https://web.archive.org/web/2015050519id_/http...</td>\n",
              "      <td>24.333333</td>\n",
              "      <td>medium</td>\n",
              "      <td>1.000000</td>\n",
              "      <td>high</td>\n",
              "      <td>1970-01-01 00:33:35.050519</td>\n",
              "      <td>7.166667</td>\n",
              "      <td>mixed</td>\n",
              "      <td>Will Poulter is the new \"It\" boy in Hollywood.</td>\n",
              "      <td>['tuesday', 'may', 'pm', 'will', 'poulter', 'c...</td>\n",
              "      <td>Will Poulter in talks to play evil clown in 'I...</td>\n",
              "      <td>http://www.nydailynews.com/entertainment/movie...</td>\n",
              "    </tr>\n",
              "    <tr>\n",
              "      <th>28</th>\n",
              "      <td>391032</td>\n",
              "      <td>https://web.archive.org/web/2012042219id_/http...</td>\n",
              "      <td>30.939394</td>\n",
              "      <td>medium</td>\n",
              "      <td>0.969697</td>\n",
              "      <td>high</td>\n",
              "      <td>1970-01-01 00:33:32.042219</td>\n",
              "      <td>12.909091</td>\n",
              "      <td>extractive</td>\n",
              "      <td>Gábor Tóth, 33, is the first person ever to se...</td>\n",
              "      <td>['like', 'good', 'gothic', 'thriller', 'first'...</td>\n",
              "      <td>Working Hollywood: Gábor Tóth runs the carriag...</td>\n",
              "      <td>http://latimesblogs.latimes.com/entertainmentn...</td>\n",
              "    </tr>\n",
              "    <tr>\n",
              "      <th>29</th>\n",
              "      <td>722967</td>\n",
              "      <td>https://web.archive.org/web/2016030819id_/http...</td>\n",
              "      <td>22.300000</td>\n",
              "      <td>medium</td>\n",
              "      <td>1.000000</td>\n",
              "      <td>high</td>\n",
              "      <td>1970-01-01 00:33:36.030819</td>\n",
              "      <td>3.400000</td>\n",
              "      <td>mixed</td>\n",
              "      <td>The NASA astronaut is back on Earth after 340 ...</td>\n",
              "      <td>['nasa', 'astronaut', 'scott', 'kelly', 'back'...</td>\n",
              "      <td>Stephen Colbert Pop Culture Catch Up</td>\n",
              "      <td>http://time.com/4247676/stephen-colbert-scott-...</td>\n",
              "    </tr>\n",
              "    <tr>\n",
              "      <th>30</th>\n",
              "      <td>354198</td>\n",
              "      <td>https://web.archive.org/web/2016091419id_/http...</td>\n",
              "      <td>27.411765</td>\n",
              "      <td>medium</td>\n",
              "      <td>0.705882</td>\n",
              "      <td>low</td>\n",
              "      <td>1970-01-01 00:33:36.091419</td>\n",
              "      <td>0.941176</td>\n",
              "      <td>abstractive</td>\n",
              "      <td>Louisiana rapper opens up about Rodgers, James...</td>\n",
              "      <td>['lil', 'wayne', 'believe', 'racism', 'least',...</td>\n",
              "      <td>Lil Wayne discusses race, Aaron Rodgers and Le...</td>\n",
              "      <td>http://www.foxsports.com/nfl/story/colin-kaepe...</td>\n",
              "    </tr>\n",
              "    <tr>\n",
              "      <th>31</th>\n",
              "      <td>761513</td>\n",
              "      <td>https://web.archive.org/web/2011102219id_/http...</td>\n",
              "      <td>20.074074</td>\n",
              "      <td>medium</td>\n",
              "      <td>0.555556</td>\n",
              "      <td>low</td>\n",
              "      <td>1970-01-01 00:33:31.102219</td>\n",
              "      <td>0.555556</td>\n",
              "      <td>abstractive</td>\n",
              "      <td>Kim Kardashian 's wedding photos look just lik...</td>\n",
              "      <td>['oh', 'god', 'it', 'pretty', 'embarrassing', ...</td>\n",
              "      <td>Kim Kardashian Wedding Photos</td>\n",
              "      <td>http://www.tmz.com/2011/09/17/kim-kardashian-w...</td>\n",
              "    </tr>\n",
              "    <tr>\n",
              "      <th>32</th>\n",
              "      <td>696477</td>\n",
              "      <td>https://web.archive.org/web/2014011919id_/http...</td>\n",
              "      <td>17.962963</td>\n",
              "      <td>medium</td>\n",
              "      <td>0.555556</td>\n",
              "      <td>low</td>\n",
              "      <td>1970-01-01 00:33:34.011919</td>\n",
              "      <td>0.777778</td>\n",
              "      <td>abstractive</td>\n",
              "      <td>Minute-by-minute report: Samuel Eto'o's hat-tr...</td>\n",
              "      <td>['the', 'last', 'time', 'side', 'met', 'game',...</td>\n",
              "      <td>Chelsea v Manchester United - as it happened</td>\n",
              "      <td>http://www.theguardian.com/football/2014/jan/1...</td>\n",
              "    </tr>\n",
              "    <tr>\n",
              "      <th>33</th>\n",
              "      <td>392640</td>\n",
              "      <td>https://web.archive.org/web/2016092319id_/http...</td>\n",
              "      <td>28.500000</td>\n",
              "      <td>medium</td>\n",
              "      <td>0.875000</td>\n",
              "      <td>medium</td>\n",
              "      <td>1970-01-01 00:33:36.092319</td>\n",
              "      <td>0.875000</td>\n",
              "      <td>abstractive</td>\n",
              "      <td>Uber is turning to selfies for security.</td>\n",
              "      <td>['from', 'uber', 'driver', 'start', 'shift', '...</td>\n",
              "      <td>Uber drivers will verify their identities thro...</td>\n",
              "      <td>http://mashable.com/2016/09/23/uber-selfies-se...</td>\n",
              "    </tr>\n",
              "    <tr>\n",
              "      <th>34</th>\n",
              "      <td>522601</td>\n",
              "      <td>https://web.archive.org/web/2014060319id_/http...</td>\n",
              "      <td>35.083333</td>\n",
              "      <td>medium</td>\n",
              "      <td>0.958333</td>\n",
              "      <td>high</td>\n",
              "      <td>1970-01-01 00:33:34.060319</td>\n",
              "      <td>4.375000</td>\n",
              "      <td>mixed</td>\n",
              "      <td>The proposed rule by the Obama administration ...</td>\n",
              "      <td>['the', 'greenhouse', 'gas', 'reduction', 'req...</td>\n",
              "      <td>Nearing a Climate Legacy</td>\n",
              "      <td>http://www.nytimes.com/2014/06/03/opinion/near...</td>\n",
              "    </tr>\n",
              "    <tr>\n",
              "      <th>35</th>\n",
              "      <td>395540</td>\n",
              "      <td>https://web.archive.org/web/2014062219id_/http...</td>\n",
              "      <td>21.200000</td>\n",
              "      <td>medium</td>\n",
              "      <td>0.933333</td>\n",
              "      <td>medium</td>\n",
              "      <td>1970-01-01 00:33:34.062219</td>\n",
              "      <td>7.066667</td>\n",
              "      <td>mixed</td>\n",
              "      <td>Soon, the NBA could give advertisements a prom...</td>\n",
              "      <td>['soccer', 'jersey', 'sponsor', 'front', 'cent...</td>\n",
              "      <td>Did the NBA Just Make Its Biggest Move Yet to ...</td>\n",
              "      <td>http://mashable.com/2014/06/20/nba-ads-on-jers...</td>\n",
              "    </tr>\n",
              "    <tr>\n",
              "      <th>36</th>\n",
              "      <td>316823</td>\n",
              "      <td>https://web.archive.org/web/2014101319id_/http...</td>\n",
              "      <td>18.021277</td>\n",
              "      <td>medium</td>\n",
              "      <td>0.829787</td>\n",
              "      <td>medium</td>\n",
              "      <td>1970-01-01 00:33:34.101319</td>\n",
              "      <td>6.489362</td>\n",
              "      <td>mixed</td>\n",
              "      <td>The Democratic Senatorial Campaign Committee (...</td>\n",
              "      <td>['even', 'poll', 'show', 'mitch', 'mcconnell',...</td>\n",
              "      <td>Democrats go all in to unseat McConnell, as po...</td>\n",
              "      <td>http://www.foxnews.com/politics/2014/10/13/dem...</td>\n",
              "    </tr>\n",
              "    <tr>\n",
              "      <th>37</th>\n",
              "      <td>438742</td>\n",
              "      <td>https://web.archive.org/web/2015070119id_/http...</td>\n",
              "      <td>20.461538</td>\n",
              "      <td>medium</td>\n",
              "      <td>0.923077</td>\n",
              "      <td>medium</td>\n",
              "      <td>1970-01-01 00:33:35.070119</td>\n",
              "      <td>20.384615</td>\n",
              "      <td>extractive</td>\n",
              "      <td>Ex-CNN anchor Lynne Russell and her marksman h...</td>\n",
              "      <td>['anchor', 'lynne', 'russell', 'marksman', 'hu...</td>\n",
              "      <td>Ex-CNN anchor Lynn Russell’s husband wounded i...</td>\n",
              "      <td>http://www.nydailynews.com/news/national/ex-cn...</td>\n",
              "    </tr>\n",
              "    <tr>\n",
              "      <th>38</th>\n",
              "      <td>218853</td>\n",
              "      <td>https://web.archive.org/web/2014050919id_/http...</td>\n",
              "      <td>26.470588</td>\n",
              "      <td>medium</td>\n",
              "      <td>0.882353</td>\n",
              "      <td>medium</td>\n",
              "      <td>1970-01-01 00:33:34.050919</td>\n",
              "      <td>2.764706</td>\n",
              "      <td>mixed</td>\n",
              "      <td>For the first time ever, the NATO forces embar...</td>\n",
              "      <td>['it', 'goal', 'lofty', 'practical', 'protect'...</td>\n",
              "      <td>NATO: Guarding the peace in Afghanistan</td>\n",
              "      <td>http://www.cbc.ca/archives/categories/war-conf...</td>\n",
              "    </tr>\n",
              "    <tr>\n",
              "      <th>39</th>\n",
              "      <td>718809</td>\n",
              "      <td>https://web.archive.org/web/2016102719id_/http...</td>\n",
              "      <td>21.714286</td>\n",
              "      <td>medium</td>\n",
              "      <td>0.285714</td>\n",
              "      <td>low</td>\n",
              "      <td>1970-01-01 00:33:36.102719</td>\n",
              "      <td>0.285714</td>\n",
              "      <td>abstractive</td>\n",
              "      <td>In which zombies take over the polls</td>\n",
              "      <td>['although', 'host', 'donald', 'trump', 'new',...</td>\n",
              "      <td>Watch Trump TV Walking Dead Mashup Video</td>\n",
              "      <td>http://time.com/4545970/jimmy-kimmel-donald-tr...</td>\n",
              "    </tr>\n",
              "    <tr>\n",
              "      <th>40</th>\n",
              "      <td>673275</td>\n",
              "      <td>https://web.archive.org/web/2015070819id_/http...</td>\n",
              "      <td>25.074074</td>\n",
              "      <td>medium</td>\n",
              "      <td>0.777778</td>\n",
              "      <td>low</td>\n",
              "      <td>1970-01-01 00:33:35.070819</td>\n",
              "      <td>3.444444</td>\n",
              "      <td>mixed</td>\n",
              "      <td>New York City follows trend to end overrelianc...</td>\n",
              "      <td>['thousand', 'new', 'yorkers', 'accused', 'cri...</td>\n",
              "      <td>$18m plan to replace bail aims to keep defenda...</td>\n",
              "      <td>http://www.theguardian.com/us-news/2015/jul/08...</td>\n",
              "    </tr>\n",
              "  </tbody>\n",
              "</table>\n",
              "</div>"
            ],
            "text/plain": [
              "    Unnamed: 0.1  ...                                                url\n",
              "0         664714  ...  http://www.theguardian.com/world/2016/feb/08/u...\n",
              "1         468134  ...  http://www.nydailynews.com/sports/football/aus...\n",
              "2         254770  ...  http://www.cnn.com/2012/08/21/showbiz/office-e...\n",
              "3         136061  ...  http://fortune.com/2016/07/12/twitter-live-blo...\n",
              "4         307240  ...  http://www.foxnews.com/world/2016/02/07/afghan...\n",
              "5         260205  ...  http://www.cnn.com/2011/12/24/world/africa/nig...\n",
              "6         210584  ...  http://www.bloomberg.com/news/articles/2016-05...\n",
              "7         513953  ...  http://www.nytimes.com/2016/09/26/opinion/pron...\n",
              "8          57069  ...  http://time.com/4351789/game-of-thrones-red-we...\n",
              "9         803781  ...  http://content.usatoday.com/topics/topic/Strai...\n",
              "10        869531  ...  http://www.washingtonpost.com/wp-dyn/content/a...\n",
              "11        733782  ...  http://time.com/money/3449952/rupert-murdoch-n...\n",
              "12        198546  ...            http://food.aol.com/gourmet/mothers-day\n",
              "13        263011  ...  http://www.cnn.com/2011/CRIME/08/03/texas.poly...\n",
              "14        338648  ...  http://www.foxnews.com/us/2012/06/10/creflo-do...\n",
              "15        927975  ...  http://www.foxnews.com/entertainment/2014/10/2...\n",
              "16        193267  ...  http://blogs.aljazeera.com/blog/americas/obama...\n",
              "17        717369  ...  https://www.thesun.co.uk/news/1954548/horrifyi...\n",
              "18        611623  ...  http://people.com/music/calvin-harris-says-hes...\n",
              "19        554610  ...  http://www.nytimes.com/2012/04/22/us/politics/...\n",
              "20        770752  ...  http://www.usatoday.com/life/music/reviews/sto...\n",
              "21        672464  ...  http://www.theguardian.com/music/2015/jul/28/c...\n",
              "22         21511  ...  http://www.9news.com.au/national/2016/08/29/12...\n",
              "23        207793  ...  http://www.bbc.com/travel/blog/20120213-worldw...\n",
              "24        672019  ...  http://www.theguardian.com/world/2015/aug/07/a...\n",
              "25        303967  ...  http://www.forbes.com/sites/robertberger/2014/...\n",
              "26        338524  ...  http://www.foxnews.com/us/2012/06/14/syria-dip...\n",
              "27        441839  ...  http://www.nydailynews.com/entertainment/movie...\n",
              "28        391032  ...  http://latimesblogs.latimes.com/entertainmentn...\n",
              "29        722967  ...  http://time.com/4247676/stephen-colbert-scott-...\n",
              "30        354198  ...  http://www.foxsports.com/nfl/story/colin-kaepe...\n",
              "31        761513  ...  http://www.tmz.com/2011/09/17/kim-kardashian-w...\n",
              "32        696477  ...  http://www.theguardian.com/football/2014/jan/1...\n",
              "33        392640  ...  http://mashable.com/2016/09/23/uber-selfies-se...\n",
              "34        522601  ...  http://www.nytimes.com/2014/06/03/opinion/near...\n",
              "35        395540  ...  http://mashable.com/2014/06/20/nba-ads-on-jers...\n",
              "36        316823  ...  http://www.foxnews.com/politics/2014/10/13/dem...\n",
              "37        438742  ...  http://www.nydailynews.com/news/national/ex-cn...\n",
              "38        218853  ...  http://www.cbc.ca/archives/categories/war-conf...\n",
              "39        718809  ...  http://time.com/4545970/jimmy-kimmel-donald-tr...\n",
              "40        673275  ...  http://www.theguardian.com/us-news/2015/jul/08...\n",
              "\n",
              "[41 rows x 13 columns]"
            ]
          },
          "metadata": {
            "tags": []
          },
          "execution_count": 85
        }
      ]
    },
    {
      "cell_type": "code",
      "metadata": {
        "id": "-97F-zSO_eUJ",
        "colab_type": "code",
        "colab": {}
      },
      "source": [
        "w1=WordCloud(width=800,height=800,background_color='white',stopwords=set(STOPWORDS),min_font_size=10).generate(random_medium.loc[0,'summary'])"
      ],
      "execution_count": 0,
      "outputs": []
    },
    {
      "cell_type": "code",
      "metadata": {
        "id": "xZvVKoU4_0d6",
        "colab_type": "code",
        "outputId": "a752faba-1183-4fe4-846f-6a136db729d1",
        "colab": {
          "base_uri": "https://localhost:8080/",
          "height": 286
        }
      },
      "source": [
        "plt.imshow(w1)"
      ],
      "execution_count": 0,
      "outputs": [
        {
          "output_type": "execute_result",
          "data": {
            "text/plain": [
              "<matplotlib.image.AxesImage at 0x7f87ebbd9d68>"
            ]
          },
          "metadata": {
            "tags": []
          },
          "execution_count": 84
        },
        {
          "output_type": "display_data",
          "data": {
            "image/png": "[encoded data removed]",
            "text/plain": [
              "<Figure size 432x288 with 1 Axes>"
            ]
          },
          "metadata": {
            "tags": []
          }
        }
      ]
    },
    {
      "cell_type": "code",
      "metadata": {
        "id": "lQsm_x2Q_39b",
        "colab_type": "code",
        "colab": {}
      },
      "source": [
        "w2=WordCloud(width=800,height=800,background_color='white',stopwords=set(STOPWORDS),min_font_size=10).generate(random_medium.loc[0,'text'])"
      ],
      "execution_count": 0,
      "outputs": []
    },
    {
      "cell_type": "code",
      "metadata": {
        "id": "B5XqSSF6__Lz",
        "colab_type": "code",
        "outputId": "665398df-f88f-45c3-8619-73dff1fd27f3",
        "colab": {
          "base_uri": "https://localhost:8080/",
          "height": 286
        }
      },
      "source": [
        "plt.imshow(w2)"
      ],
      "execution_count": 0,
      "outputs": [
        {
          "output_type": "execute_result",
          "data": {
            "text/plain": [
              "<matplotlib.image.AxesImage at 0x7f87ec49ea58>"
            ]
          },
          "metadata": {
            "tags": []
          },
          "execution_count": 82
        },
        {
          "output_type": "display_data",
          "data": {
            "image/png": "[encoded data removed]",
            "text/plain": [
              "<Figure size 432x288 with 1 Axes>"
            ]
          },
          "metadata": {
            "tags": []
          }
        }
      ]
    },
    {
      "cell_type": "code",
      "metadata": {
        "id": "CF1TRa0vABC5",
        "colab_type": "code",
        "colab": {}
      },
      "source": [
        "w1=WordCloud(width=800,height=800,background_color='white',stopwords=set(STOPWORDS),min_font_size=10).generate(random_medium.loc[3,'summary'])"
      ],
      "execution_count": 0,
      "outputs": []
    },
    {
      "cell_type": "code",
      "metadata": {
        "id": "1pqfuhgBCmxF",
        "colab_type": "code",
        "outputId": "b60a21b9-0271-4ea6-af6d-6c6e15e215e6",
        "colab": {
          "base_uri": "https://localhost:8080/",
          "height": 286
        }
      },
      "source": [
        "plt.imshow(w1)"
      ],
      "execution_count": 0,
      "outputs": [
        {
          "output_type": "execute_result",
          "data": {
            "text/plain": [
              "<matplotlib.image.AxesImage at 0x7f87ee216c88>"
            ]
          },
          "metadata": {
            "tags": []
          },
          "execution_count": 23
        },
        {
          "output_type": "display_data",
          "data": {
            "image/png": "[encoded data removed]",
            "text/plain": [
              "<Figure size 432x288 with 1 Axes>"
            ]
          },
          "metadata": {
            "tags": []
          }
        }
      ]
    },
    {
      "cell_type": "code",
      "metadata": {
        "id": "Z1-zdvKECpCx",
        "colab_type": "code",
        "colab": {}
      },
      "source": [
        "w2=WordCloud(width=800,height=800,background_color='white',stopwords=set(STOPWORDS),min_font_size=10).generate(random_medium.loc[3,'text'])"
      ],
      "execution_count": 0,
      "outputs": []
    },
    {
      "cell_type": "code",
      "metadata": {
        "id": "qzeoSZ4wCsLr",
        "colab_type": "code",
        "outputId": "42f37925-b5fd-4fbe-8093-d76a3f391d39",
        "colab": {
          "base_uri": "https://localhost:8080/",
          "height": 286
        }
      },
      "source": [
        "plt.imshow(w2)"
      ],
      "execution_count": 0,
      "outputs": [
        {
          "output_type": "execute_result",
          "data": {
            "text/plain": [
              "<matplotlib.image.AxesImage at 0x7f87d8f7de80>"
            ]
          },
          "metadata": {
            "tags": []
          },
          "execution_count": 25
        },
        {
          "output_type": "display_data",
          "data": {
            "image/png": "[encoded data removed]",
            "text/plain": [
              "<Figure size 432x288 with 1 Axes>"
            ]
          },
          "metadata": {
            "tags": []
          }
        }
      ]
    },
    {
      "cell_type": "markdown",
      "metadata": {
        "id": "jSV_CUzGC2YL",
        "colab_type": "text"
      },
      "source": [
        "High Coverage "
      ]
    },
    {
      "cell_type": "code",
      "metadata": {
        "id": "8IM6GYqlSZIx",
        "colab_type": "code",
        "outputId": "5f96eff9-d502-4575-af3c-dff459328e12",
        "colab": {
          "base_uri": "https://localhost:8080/",
          "height": 581
        }
      },
      "source": [
        "random_high.head()"
      ],
      "execution_count": 0,
      "outputs": [
        {
          "output_type": "execute_result",
          "data": {
            "text/html": [
              "<div>\n",
              "<style scoped>\n",
              "    .dataframe tbody tr th:only-of-type {\n",
              "        vertical-align: middle;\n",
              "    }\n",
              "\n",
              "    .dataframe tbody tr th {\n",
              "        vertical-align: top;\n",
              "    }\n",
              "\n",
              "    .dataframe thead th {\n",
              "        text-align: right;\n",
              "    }\n",
              "</style>\n",
              "<table border=\"1\" class=\"dataframe\">\n",
              "  <thead>\n",
              "    <tr style=\"text-align: right;\">\n",
              "      <th></th>\n",
              "      <th>Unnamed: 0.1</th>\n",
              "      <th>archive</th>\n",
              "      <th>compression</th>\n",
              "      <th>compression_bin</th>\n",
              "      <th>coverage</th>\n",
              "      <th>coverage_bin</th>\n",
              "      <th>date</th>\n",
              "      <th>density</th>\n",
              "      <th>density_bin</th>\n",
              "      <th>summary</th>\n",
              "      <th>text</th>\n",
              "      <th>title</th>\n",
              "      <th>url</th>\n",
              "    </tr>\n",
              "  </thead>\n",
              "  <tbody>\n",
              "    <tr>\n",
              "      <th>0</th>\n",
              "      <td>45522</td>\n",
              "      <td>http://web.archive.org/web/20110111162446id_/h...</td>\n",
              "      <td>9.212500</td>\n",
              "      <td>low</td>\n",
              "      <td>0.975000</td>\n",
              "      <td>high</td>\n",
              "      <td>1970-08-21 18:08:31.162446</td>\n",
              "      <td>18.450000</td>\n",
              "      <td>extractive</td>\n",
              "      <td>I f the person who came up with the idea of a ...</td>\n",
              "      <td>['friday', 'august', 'th', 'johnny', 'knoxvill...</td>\n",
              "      <td>A 'HAZZARD'-OUS WASTE. THE DUKES CRASH THE BIG...</td>\n",
              "      <td>http://www.nydailynews.com/archives/entertainm...</td>\n",
              "    </tr>\n",
              "    <tr>\n",
              "      <th>1</th>\n",
              "      <td>311534</td>\n",
              "      <td>https://web.archive.org/web/2016101619id_/http...</td>\n",
              "      <td>19.702128</td>\n",
              "      <td>medium</td>\n",
              "      <td>0.978723</td>\n",
              "      <td>high</td>\n",
              "      <td>1970-01-01 00:33:36.101619</td>\n",
              "      <td>6.000000</td>\n",
              "      <td>mixed</td>\n",
              "      <td>Two congressional sources tell Fox News that F...</td>\n",
              "      <td>['fbi', 'interview', 'summary', 'note', 'provi...</td>\n",
              "      <td>New FBI files contain allegations of 'quid pro...</td>\n",
              "      <td>http://www.foxnews.com/politics/2016/10/16/new...</td>\n",
              "    </tr>\n",
              "    <tr>\n",
              "      <th>2</th>\n",
              "      <td>921797</td>\n",
              "      <td>https://web.archive.org/web/2016020319id_/http...</td>\n",
              "      <td>31.666667</td>\n",
              "      <td>medium</td>\n",
              "      <td>1.000000</td>\n",
              "      <td>high</td>\n",
              "      <td>1970-01-01 00:33:36.020319</td>\n",
              "      <td>30.000000</td>\n",
              "      <td>extractive</td>\n",
              "      <td>Los Angeles prosecutors filed misdemeanor crim...</td>\n",
              "      <td>['los', 'angeles', 'los', 'angeles', 'prosecut...</td>\n",
              "      <td>Criminal charges filed against utility in Sout...</td>\n",
              "      <td>http://www.foxnews.com/us/2016/02/03/criminal-...</td>\n",
              "    </tr>\n",
              "    <tr>\n",
              "      <th>3</th>\n",
              "      <td>63232</td>\n",
              "      <td>http://web.archive.org/web/20150524084421id_/h...</td>\n",
              "      <td>8.753846</td>\n",
              "      <td>low</td>\n",
              "      <td>0.984615</td>\n",
              "      <td>high</td>\n",
              "      <td>1970-08-22 05:22:04.084421</td>\n",
              "      <td>59.430769</td>\n",
              "      <td>extractive</td>\n",
              "      <td>Egg on the Face   While lunching with an extre...</td>\n",
              "      <td>['while', 'lunching', 'extremely', 'vital', 'm...</td>\n",
              "      <td>Sunday Observer - NYTimes.com</td>\n",
              "      <td>http://www.nytimes.com/1981/08/30/magazine/sun...</td>\n",
              "    </tr>\n",
              "    <tr>\n",
              "      <th>4</th>\n",
              "      <td>768229</td>\n",
              "      <td>https://web.archive.org/web/2012051719id_/http...</td>\n",
              "      <td>7.178571</td>\n",
              "      <td>low</td>\n",
              "      <td>1.000000</td>\n",
              "      <td>high</td>\n",
              "      <td>1970-01-01 00:33:32.051719</td>\n",
              "      <td>19.785714</td>\n",
              "      <td>extractive</td>\n",
              "      <td>A day after the current Giants received their ...</td>\n",
              "      <td>['a', 'day', 'current', 'new', 'york', 'giant'...</td>\n",
              "      <td>Lawrence Taylor auctioning Super Bowl XXV ring</td>\n",
              "      <td>http://content.usatoday.com/communities/thehud...</td>\n",
              "    </tr>\n",
              "  </tbody>\n",
              "</table>\n",
              "</div>"
            ],
            "text/plain": [
              "   Unnamed: 0.1  ...                                                url\n",
              "0         45522  ...  http://www.nydailynews.com/archives/entertainm...\n",
              "1        311534  ...  http://www.foxnews.com/politics/2016/10/16/new...\n",
              "2        921797  ...  http://www.foxnews.com/us/2016/02/03/criminal-...\n",
              "3         63232  ...  http://www.nytimes.com/1981/08/30/magazine/sun...\n",
              "4        768229  ...  http://content.usatoday.com/communities/thehud...\n",
              "\n",
              "[5 rows x 13 columns]"
            ]
          },
          "metadata": {
            "tags": []
          },
          "execution_count": 30
        }
      ]
    },
    {
      "cell_type": "code",
      "metadata": {
        "id": "bYBijCXoC1yG",
        "colab_type": "code",
        "colab": {}
      },
      "source": [
        "w1=WordCloud(width=800,height=800,background_color='white',stopwords=set(STOPWORDS),min_font_size=10).generate(random_high.loc[5,'summary'])"
      ],
      "execution_count": 0,
      "outputs": []
    },
    {
      "cell_type": "code",
      "metadata": {
        "id": "qFwSyxYACuvW",
        "colab_type": "code",
        "outputId": "f03a0628-866e-42de-c451-ddea7de95d2a",
        "colab": {
          "base_uri": "https://localhost:8080/",
          "height": 286
        }
      },
      "source": [
        "plt.imshow(w1)"
      ],
      "execution_count": 0,
      "outputs": [
        {
          "output_type": "execute_result",
          "data": {
            "text/plain": [
              "<matplotlib.image.AxesImage at 0x7f87ebb96f28>"
            ]
          },
          "metadata": {
            "tags": []
          },
          "execution_count": 86
        },
        {
          "output_type": "display_data",
          "data": {
            "image/png": "[encoded data removed]",
            "text/plain": [
              "<Figure size 432x288 with 1 Axes>"
            ]
          },
          "metadata": {
            "tags": []
          }
        }
      ]
    },
    {
      "cell_type": "code",
      "metadata": {
        "id": "_Vi-rISJDKAQ",
        "colab_type": "code",
        "colab": {}
      },
      "source": [
        "w2=WordCloud(width=800,height=800,background_color='white',stopwords=set(STOPWORDS),min_font_size=10).generate(random_high.loc[5,'text'])"
      ],
      "execution_count": 0,
      "outputs": []
    },
    {
      "cell_type": "code",
      "metadata": {
        "id": "tVxgPOSRDTeu",
        "colab_type": "code",
        "outputId": "dd62b032-00bc-47af-ae22-f7573dee4fcb",
        "colab": {
          "base_uri": "https://localhost:8080/",
          "height": 286
        }
      },
      "source": [
        "plt.imshow(w2)"
      ],
      "execution_count": 0,
      "outputs": [
        {
          "output_type": "execute_result",
          "data": {
            "text/plain": [
              "<matplotlib.image.AxesImage at 0x7f87eb301a20>"
            ]
          },
          "metadata": {
            "tags": []
          },
          "execution_count": 88
        },
        {
          "output_type": "display_data",
          "data": {
            "image/png": "[encoded data removed]",
            "text/plain": [
              "<Figure size 432x288 with 1 Axes>"
            ]
          },
          "metadata": {
            "tags": []
          }
        }
      ]
    },
    {
      "cell_type": "code",
      "metadata": {
        "id": "QDgPT0U1SsZE",
        "colab_type": "code",
        "colab": {}
      },
      "source": [
        "w1=WordCloud(width=800,height=800,background_color='white',stopwords=set(STOPWORDS),min_font_size=10).generate(random_high.loc[3,'summary'])"
      ],
      "execution_count": 0,
      "outputs": []
    },
    {
      "cell_type": "code",
      "metadata": {
        "id": "5FORVN0oSsS9",
        "colab_type": "code",
        "outputId": "d1cdd7c4-35af-471f-f253-16741ce51bdc",
        "colab": {
          "base_uri": "https://localhost:8080/",
          "height": 286
        }
      },
      "source": [
        "plt.imshow(w1)"
      ],
      "execution_count": 0,
      "outputs": [
        {
          "output_type": "execute_result",
          "data": {
            "text/plain": [
              "<matplotlib.image.AxesImage at 0x7f87d9ac40b8>"
            ]
          },
          "metadata": {
            "tags": []
          },
          "execution_count": 46
        },
        {
          "output_type": "display_data",
          "data": {
            "image/png": "[encoded data removed]",
            "text/plain": [
              "<Figure size 432x288 with 1 Axes>"
            ]
          },
          "metadata": {
            "tags": []
          }
        }
      ]
    },
    {
      "cell_type": "code",
      "metadata": {
        "id": "L1KWz9KoSsH3",
        "colab_type": "code",
        "colab": {}
      },
      "source": [
        "w2=WordCloud(width=800,height=800,background_color='white',stopwords=set(STOPWORDS),min_font_size=10).generate(random_high.loc[3,'text'])"
      ],
      "execution_count": 0,
      "outputs": []
    },
    {
      "cell_type": "code",
      "metadata": {
        "id": "j8GT8zWUS3mn",
        "colab_type": "code",
        "outputId": "c734cbbd-6ae1-4266-f1bc-520f61eaddb0",
        "colab": {
          "base_uri": "https://localhost:8080/",
          "height": 286
        }
      },
      "source": [
        "plt.imshow(w2)"
      ],
      "execution_count": 0,
      "outputs": [
        {
          "output_type": "execute_result",
          "data": {
            "text/plain": [
              "<matplotlib.image.AxesImage at 0x7f87dc803b00>"
            ]
          },
          "metadata": {
            "tags": []
          },
          "execution_count": 48
        },
        {
          "output_type": "display_data",
          "data": {
            "image/png": "[encoded data removed]",
            "text/plain": [
              "<Figure size 432x288 with 1 Axes>"
            ]
          },
          "metadata": {
            "tags": []
          }
        }
      ]
    },
    {
      "cell_type": "code",
      "metadata": {
        "id": "w4mZjOFvS7uj",
        "colab_type": "code",
        "outputId": "34c37bdf-a620-4794-ef84-feeb34cbaca9",
        "colab": {
          "base_uri": "https://localhost:8080/",
          "height": 297
        }
      },
      "source": [
        "random_low.describe()"
      ],
      "execution_count": 0,
      "outputs": [
        {
          "output_type": "execute_result",
          "data": {
            "text/html": [
              "<div>\n",
              "<style scoped>\n",
              "    .dataframe tbody tr th:only-of-type {\n",
              "        vertical-align: middle;\n",
              "    }\n",
              "\n",
              "    .dataframe tbody tr th {\n",
              "        vertical-align: top;\n",
              "    }\n",
              "\n",
              "    .dataframe thead th {\n",
              "        text-align: right;\n",
              "    }\n",
              "</style>\n",
              "<table border=\"1\" class=\"dataframe\">\n",
              "  <thead>\n",
              "    <tr style=\"text-align: right;\">\n",
              "      <th></th>\n",
              "      <th>Unnamed: 0.1</th>\n",
              "      <th>compression</th>\n",
              "      <th>coverage</th>\n",
              "      <th>density</th>\n",
              "    </tr>\n",
              "  </thead>\n",
              "  <tbody>\n",
              "    <tr>\n",
              "      <th>count</th>\n",
              "      <td>42.000000</td>\n",
              "      <td>42.000000</td>\n",
              "      <td>42.000000</td>\n",
              "      <td>42.000000</td>\n",
              "    </tr>\n",
              "    <tr>\n",
              "      <th>mean</th>\n",
              "      <td>511099.238095</td>\n",
              "      <td>36.082404</td>\n",
              "      <td>0.613517</td>\n",
              "      <td>1.281638</td>\n",
              "    </tr>\n",
              "    <tr>\n",
              "      <th>std</th>\n",
              "      <td>325474.750448</td>\n",
              "      <td>25.965775</td>\n",
              "      <td>0.140741</td>\n",
              "      <td>1.396812</td>\n",
              "    </tr>\n",
              "    <tr>\n",
              "      <th>min</th>\n",
              "      <td>2943.000000</td>\n",
              "      <td>2.046512</td>\n",
              "      <td>0.242424</td>\n",
              "      <td>0.242424</td>\n",
              "    </tr>\n",
              "    <tr>\n",
              "      <th>25%</th>\n",
              "      <td>208184.750000</td>\n",
              "      <td>15.892437</td>\n",
              "      <td>0.506944</td>\n",
              "      <td>0.600491</td>\n",
              "    </tr>\n",
              "    <tr>\n",
              "      <th>50%</th>\n",
              "      <td>539477.500000</td>\n",
              "      <td>31.000000</td>\n",
              "      <td>0.630682</td>\n",
              "      <td>0.899038</td>\n",
              "    </tr>\n",
              "    <tr>\n",
              "      <th>75%</th>\n",
              "      <td>847373.750000</td>\n",
              "      <td>56.681066</td>\n",
              "      <td>0.740476</td>\n",
              "      <td>1.250000</td>\n",
              "    </tr>\n",
              "    <tr>\n",
              "      <th>max</th>\n",
              "      <td>994625.000000</td>\n",
              "      <td>92.250000</td>\n",
              "      <td>0.782609</td>\n",
              "      <td>8.250000</td>\n",
              "    </tr>\n",
              "  </tbody>\n",
              "</table>\n",
              "</div>"
            ],
            "text/plain": [
              "        Unnamed: 0.1  compression   coverage    density\n",
              "count      42.000000    42.000000  42.000000  42.000000\n",
              "mean   511099.238095    36.082404   0.613517   1.281638\n",
              "std    325474.750448    25.965775   0.140741   1.396812\n",
              "min      2943.000000     2.046512   0.242424   0.242424\n",
              "25%    208184.750000    15.892437   0.506944   0.600491\n",
              "50%    539477.500000    31.000000   0.630682   0.899038\n",
              "75%    847373.750000    56.681066   0.740476   1.250000\n",
              "max    994625.000000    92.250000   0.782609   8.250000"
            ]
          },
          "metadata": {
            "tags": []
          },
          "execution_count": 39
        }
      ]
    },
    {
      "cell_type": "code",
      "metadata": {
        "id": "NgJ0FXI9S-9H",
        "colab_type": "code",
        "outputId": "fff69e43-61cc-4b6c-8fd6-c2c85413898c",
        "colab": {
          "base_uri": "https://localhost:8080/",
          "height": 297
        }
      },
      "source": [
        "random_medium.describe()"
      ],
      "execution_count": 0,
      "outputs": [
        {
          "output_type": "execute_result",
          "data": {
            "text/html": [
              "<div>\n",
              "<style scoped>\n",
              "    .dataframe tbody tr th:only-of-type {\n",
              "        vertical-align: middle;\n",
              "    }\n",
              "\n",
              "    .dataframe tbody tr th {\n",
              "        vertical-align: top;\n",
              "    }\n",
              "\n",
              "    .dataframe thead th {\n",
              "        text-align: right;\n",
              "    }\n",
              "</style>\n",
              "<table border=\"1\" class=\"dataframe\">\n",
              "  <thead>\n",
              "    <tr style=\"text-align: right;\">\n",
              "      <th></th>\n",
              "      <th>Unnamed: 0.1</th>\n",
              "      <th>compression</th>\n",
              "      <th>coverage</th>\n",
              "      <th>density</th>\n",
              "    </tr>\n",
              "  </thead>\n",
              "  <tbody>\n",
              "    <tr>\n",
              "      <th>count</th>\n",
              "      <td>26.000000</td>\n",
              "      <td>26.000000</td>\n",
              "      <td>26.000000</td>\n",
              "      <td>26.000000</td>\n",
              "    </tr>\n",
              "    <tr>\n",
              "      <th>mean</th>\n",
              "      <td>439401.692308</td>\n",
              "      <td>36.897628</td>\n",
              "      <td>0.849721</td>\n",
              "      <td>5.259327</td>\n",
              "    </tr>\n",
              "    <tr>\n",
              "      <th>std</th>\n",
              "      <td>302650.349774</td>\n",
              "      <td>28.266574</td>\n",
              "      <td>0.045857</td>\n",
              "      <td>6.874657</td>\n",
              "    </tr>\n",
              "    <tr>\n",
              "      <th>min</th>\n",
              "      <td>28809.000000</td>\n",
              "      <td>6.074074</td>\n",
              "      <td>0.787879</td>\n",
              "      <td>0.818182</td>\n",
              "    </tr>\n",
              "    <tr>\n",
              "      <th>25%</th>\n",
              "      <td>163123.750000</td>\n",
              "      <td>15.504310</td>\n",
              "      <td>0.801613</td>\n",
              "      <td>1.337340</td>\n",
              "    </tr>\n",
              "    <tr>\n",
              "      <th>50%</th>\n",
              "      <td>396371.500000</td>\n",
              "      <td>30.394091</td>\n",
              "      <td>0.847701</td>\n",
              "      <td>2.345161</td>\n",
              "    </tr>\n",
              "    <tr>\n",
              "      <th>75%</th>\n",
              "      <td>667707.250000</td>\n",
              "      <td>43.593548</td>\n",
              "      <td>0.884286</td>\n",
              "      <td>5.009698</td>\n",
              "    </tr>\n",
              "    <tr>\n",
              "      <th>max</th>\n",
              "      <td>970661.000000</td>\n",
              "      <td>104.300000</td>\n",
              "      <td>0.928571</td>\n",
              "      <td>27.375000</td>\n",
              "    </tr>\n",
              "  </tbody>\n",
              "</table>\n",
              "</div>"
            ],
            "text/plain": [
              "        Unnamed: 0.1  compression   coverage    density\n",
              "count      26.000000    26.000000  26.000000  26.000000\n",
              "mean   439401.692308    36.897628   0.849721   5.259327\n",
              "std    302650.349774    28.266574   0.045857   6.874657\n",
              "min     28809.000000     6.074074   0.787879   0.818182\n",
              "25%    163123.750000    15.504310   0.801613   1.337340\n",
              "50%    396371.500000    30.394091   0.847701   2.345161\n",
              "75%    667707.250000    43.593548   0.884286   5.009698\n",
              "max    970661.000000   104.300000   0.928571  27.375000"
            ]
          },
          "metadata": {
            "tags": []
          },
          "execution_count": 40
        }
      ]
    },
    {
      "cell_type": "code",
      "metadata": {
        "id": "UdFWvbojTEqT",
        "colab_type": "code",
        "outputId": "da2b9151-b44a-4570-aee2-fb1279e86561",
        "colab": {
          "base_uri": "https://localhost:8080/",
          "height": 297
        }
      },
      "source": [
        "random_high.describe()"
      ],
      "execution_count": 0,
      "outputs": [
        {
          "output_type": "execute_result",
          "data": {
            "text/html": [
              "<div>\n",
              "<style scoped>\n",
              "    .dataframe tbody tr th:only-of-type {\n",
              "        vertical-align: middle;\n",
              "    }\n",
              "\n",
              "    .dataframe tbody tr th {\n",
              "        vertical-align: top;\n",
              "    }\n",
              "\n",
              "    .dataframe thead th {\n",
              "        text-align: right;\n",
              "    }\n",
              "</style>\n",
              "<table border=\"1\" class=\"dataframe\">\n",
              "  <thead>\n",
              "    <tr style=\"text-align: right;\">\n",
              "      <th></th>\n",
              "      <th>Unnamed: 0.1</th>\n",
              "      <th>compression</th>\n",
              "      <th>coverage</th>\n",
              "      <th>density</th>\n",
              "    </tr>\n",
              "  </thead>\n",
              "  <tbody>\n",
              "    <tr>\n",
              "      <th>count</th>\n",
              "      <td>32.000000</td>\n",
              "      <td>32.000000</td>\n",
              "      <td>32.000000</td>\n",
              "      <td>32.000000</td>\n",
              "    </tr>\n",
              "    <tr>\n",
              "      <th>mean</th>\n",
              "      <td>470351.343750</td>\n",
              "      <td>166.703240</td>\n",
              "      <td>0.987324</td>\n",
              "      <td>23.565507</td>\n",
              "    </tr>\n",
              "    <tr>\n",
              "      <th>std</th>\n",
              "      <td>350802.884995</td>\n",
              "      <td>773.550790</td>\n",
              "      <td>0.017335</td>\n",
              "      <td>19.133977</td>\n",
              "    </tr>\n",
              "    <tr>\n",
              "      <th>min</th>\n",
              "      <td>5521.000000</td>\n",
              "      <td>2.300000</td>\n",
              "      <td>0.944444</td>\n",
              "      <td>1.000000</td>\n",
              "    </tr>\n",
              "    <tr>\n",
              "      <th>25%</th>\n",
              "      <td>161568.500000</td>\n",
              "      <td>9.962216</td>\n",
              "      <td>0.976308</td>\n",
              "      <td>6.846154</td>\n",
              "    </tr>\n",
              "    <tr>\n",
              "      <th>50%</th>\n",
              "      <td>406175.500000</td>\n",
              "      <td>18.441645</td>\n",
              "      <td>1.000000</td>\n",
              "      <td>21.142857</td>\n",
              "    </tr>\n",
              "    <tr>\n",
              "      <th>75%</th>\n",
              "      <td>781732.750000</td>\n",
              "      <td>34.811005</td>\n",
              "      <td>1.000000</td>\n",
              "      <td>34.180851</td>\n",
              "    </tr>\n",
              "    <tr>\n",
              "      <th>max</th>\n",
              "      <td>981261.000000</td>\n",
              "      <td>4400.000000</td>\n",
              "      <td>1.000000</td>\n",
              "      <td>85.709877</td>\n",
              "    </tr>\n",
              "  </tbody>\n",
              "</table>\n",
              "</div>"
            ],
            "text/plain": [
              "        Unnamed: 0.1  compression   coverage    density\n",
              "count      32.000000    32.000000  32.000000  32.000000\n",
              "mean   470351.343750   166.703240   0.987324  23.565507\n",
              "std    350802.884995   773.550790   0.017335  19.133977\n",
              "min      5521.000000     2.300000   0.944444   1.000000\n",
              "25%    161568.500000     9.962216   0.976308   6.846154\n",
              "50%    406175.500000    18.441645   1.000000  21.142857\n",
              "75%    781732.750000    34.811005   1.000000  34.180851\n",
              "max    981261.000000  4400.000000   1.000000  85.709877"
            ]
          },
          "metadata": {
            "tags": []
          },
          "execution_count": 41
        }
      ]
    },
    {
      "cell_type": "code",
      "metadata": {
        "id": "CX_we60tUG3O",
        "colab_type": "code",
        "outputId": "b1062e5d-0fd3-4dc0-e4eb-68388cf6f796",
        "colab": {
          "base_uri": "https://localhost:8080/",
          "height": 142
        }
      },
      "source": [
        "del data['Unnamed: 0.1']\n",
        "data.corr()"
      ],
      "execution_count": 0,
      "outputs": [
        {
          "output_type": "execute_result",
          "data": {
            "text/html": [
              "<div>\n",
              "<style scoped>\n",
              "    .dataframe tbody tr th:only-of-type {\n",
              "        vertical-align: middle;\n",
              "    }\n",
              "\n",
              "    .dataframe tbody tr th {\n",
              "        vertical-align: top;\n",
              "    }\n",
              "\n",
              "    .dataframe thead th {\n",
              "        text-align: right;\n",
              "    }\n",
              "</style>\n",
              "<table border=\"1\" class=\"dataframe\">\n",
              "  <thead>\n",
              "    <tr style=\"text-align: right;\">\n",
              "      <th></th>\n",
              "      <th>compression</th>\n",
              "      <th>coverage</th>\n",
              "      <th>density</th>\n",
              "    </tr>\n",
              "  </thead>\n",
              "  <tbody>\n",
              "    <tr>\n",
              "      <th>compression</th>\n",
              "      <td>1.000000</td>\n",
              "      <td>0.003840</td>\n",
              "      <td>-0.042289</td>\n",
              "    </tr>\n",
              "    <tr>\n",
              "      <th>coverage</th>\n",
              "      <td>0.003840</td>\n",
              "      <td>1.000000</td>\n",
              "      <td>0.497773</td>\n",
              "    </tr>\n",
              "    <tr>\n",
              "      <th>density</th>\n",
              "      <td>-0.042289</td>\n",
              "      <td>0.497773</td>\n",
              "      <td>1.000000</td>\n",
              "    </tr>\n",
              "  </tbody>\n",
              "</table>\n",
              "</div>"
            ],
            "text/plain": [
              "             compression  coverage   density\n",
              "compression     1.000000  0.003840 -0.042289\n",
              "coverage        0.003840  1.000000  0.497773\n",
              "density        -0.042289  0.497773  1.000000"
            ]
          },
          "metadata": {
            "tags": []
          },
          "execution_count": 43
        }
      ]
    },
    {
      "cell_type": "code",
      "metadata": {
        "id": "Ig6T_vOjZniw",
        "colab_type": "code",
        "colab": {}
      },
      "source": [
        "new=data.iloc[0:100000,:]"
      ],
      "execution_count": 0,
      "outputs": []
    },
    {
      "cell_type": "code",
      "metadata": {
        "id": "yrw-PuXwZ28u",
        "colab_type": "code",
        "outputId": "aa37d8fa-5b0d-4228-c771-3e27da893eac",
        "colab": {
          "base_uri": "https://localhost:8080/",
          "height": 142
        }
      },
      "source": [
        "new.corr()"
      ],
      "execution_count": 0,
      "outputs": [
        {
          "output_type": "execute_result",
          "data": {
            "text/html": [
              "<div>\n",
              "<style scoped>\n",
              "    .dataframe tbody tr th:only-of-type {\n",
              "        vertical-align: middle;\n",
              "    }\n",
              "\n",
              "    .dataframe tbody tr th {\n",
              "        vertical-align: top;\n",
              "    }\n",
              "\n",
              "    .dataframe thead th {\n",
              "        text-align: right;\n",
              "    }\n",
              "</style>\n",
              "<table border=\"1\" class=\"dataframe\">\n",
              "  <thead>\n",
              "    <tr style=\"text-align: right;\">\n",
              "      <th></th>\n",
              "      <th>compression</th>\n",
              "      <th>coverage</th>\n",
              "      <th>density</th>\n",
              "    </tr>\n",
              "  </thead>\n",
              "  <tbody>\n",
              "    <tr>\n",
              "      <th>compression</th>\n",
              "      <td>1.000000</td>\n",
              "      <td>-0.001974</td>\n",
              "      <td>-0.046748</td>\n",
              "    </tr>\n",
              "    <tr>\n",
              "      <th>coverage</th>\n",
              "      <td>-0.001974</td>\n",
              "      <td>1.000000</td>\n",
              "      <td>0.502827</td>\n",
              "    </tr>\n",
              "    <tr>\n",
              "      <th>density</th>\n",
              "      <td>-0.046748</td>\n",
              "      <td>0.502827</td>\n",
              "      <td>1.000000</td>\n",
              "    </tr>\n",
              "  </tbody>\n",
              "</table>\n",
              "</div>"
            ],
            "text/plain": [
              "             compression  coverage   density\n",
              "compression     1.000000 -0.001974 -0.046748\n",
              "coverage       -0.001974  1.000000  0.502827\n",
              "density        -0.046748  0.502827  1.000000"
            ]
          },
          "metadata": {
            "tags": []
          },
          "execution_count": 65
        }
      ]
    },
    {
      "cell_type": "code",
      "metadata": {
        "id": "jliTb6EBZFez",
        "colab_type": "code",
        "outputId": "9809cfc5-f97b-4c10-d3e0-8c4a7166c6b3",
        "colab": {
          "base_uri": "https://localhost:8080/",
          "height": 296
        }
      },
      "source": [
        "\n",
        "plt.scatter(new['coverage'][:5000],new['density'][:5000])\n",
        "plt.xlabel(\"Coverage\")\n",
        "plt.ylabel(\"Density\")"
      ],
      "execution_count": 0,
      "outputs": [
        {
          "output_type": "execute_result",
          "data": {
            "text/plain": [
              "Text(0, 0.5, 'Density')"
            ]
          },
          "metadata": {
            "tags": []
          },
          "execution_count": 71
        },
        {
          "output_type": "display_data",
          "data": {
            "image/png": "[encoded data removed]",
            "text/plain": [
              "<Figure size 432x288 with 1 Axes>"
            ]
          },
          "metadata": {
            "tags": []
          }
        }
      ]
    },
    {
      "cell_type": "code",
      "metadata": {
        "id": "7IXnDjZdacjV",
        "colab_type": "code",
        "colab": {}
      },
      "source": [
        "\n",
        "# plt.scatter(new['density'][:5000],new['coverage'][:5000])\n",
        "# # plt.xlabel(\"Coverage\")\n",
        "# # plt.ylabel(\"Density\")"
      ],
      "execution_count": 0,
      "outputs": []
    },
    {
      "cell_type": "code",
      "metadata": {
        "id": "coU1M9KiW8GG",
        "colab_type": "code",
        "outputId": "746b9ffa-c7e1-4753-ec87-334381b20e6f",
        "colab": {
          "base_uri": "https://localhost:8080/",
          "height": 297
        }
      },
      "source": [
        "new[new['coverage_bin']==\"low\"].describe()"
      ],
      "execution_count": 0,
      "outputs": [
        {
          "output_type": "execute_result",
          "data": {
            "text/html": [
              "<div>\n",
              "<style scoped>\n",
              "    .dataframe tbody tr th:only-of-type {\n",
              "        vertical-align: middle;\n",
              "    }\n",
              "\n",
              "    .dataframe tbody tr th {\n",
              "        vertical-align: top;\n",
              "    }\n",
              "\n",
              "    .dataframe thead th {\n",
              "        text-align: right;\n",
              "    }\n",
              "</style>\n",
              "<table border=\"1\" class=\"dataframe\">\n",
              "  <thead>\n",
              "    <tr style=\"text-align: right;\">\n",
              "      <th></th>\n",
              "      <th>compression</th>\n",
              "      <th>coverage</th>\n",
              "      <th>density</th>\n",
              "    </tr>\n",
              "  </thead>\n",
              "  <tbody>\n",
              "    <tr>\n",
              "      <th>count</th>\n",
              "      <td>31817.000000</td>\n",
              "      <td>31817.000000</td>\n",
              "      <td>31817.000000</td>\n",
              "    </tr>\n",
              "    <tr>\n",
              "      <th>mean</th>\n",
              "      <td>42.478318</td>\n",
              "      <td>0.622236</td>\n",
              "      <td>1.237324</td>\n",
              "    </tr>\n",
              "    <tr>\n",
              "      <th>std</th>\n",
              "      <td>156.945901</td>\n",
              "      <td>0.141333</td>\n",
              "      <td>1.364674</td>\n",
              "    </tr>\n",
              "    <tr>\n",
              "      <th>min</th>\n",
              "      <td>0.744444</td>\n",
              "      <td>0.000000</td>\n",
              "      <td>0.000000</td>\n",
              "    </tr>\n",
              "    <tr>\n",
              "      <th>25%</th>\n",
              "      <td>13.235294</td>\n",
              "      <td>0.555556</td>\n",
              "      <td>0.714286</td>\n",
              "    </tr>\n",
              "    <tr>\n",
              "      <th>50%</th>\n",
              "      <td>26.500000</td>\n",
              "      <td>0.666667</td>\n",
              "      <td>1.000000</td>\n",
              "    </tr>\n",
              "    <tr>\n",
              "      <th>75%</th>\n",
              "      <td>47.636364</td>\n",
              "      <td>0.729730</td>\n",
              "      <td>1.333333</td>\n",
              "    </tr>\n",
              "    <tr>\n",
              "      <th>max</th>\n",
              "      <td>13664.500000</td>\n",
              "      <td>0.784314</td>\n",
              "      <td>32.190476</td>\n",
              "    </tr>\n",
              "  </tbody>\n",
              "</table>\n",
              "</div>"
            ],
            "text/plain": [
              "        compression      coverage       density\n",
              "count  31817.000000  31817.000000  31817.000000\n",
              "mean      42.478318      0.622236      1.237324\n",
              "std      156.945901      0.141333      1.364674\n",
              "min        0.744444      0.000000      0.000000\n",
              "25%       13.235294      0.555556      0.714286\n",
              "50%       26.500000      0.666667      1.000000\n",
              "75%       47.636364      0.729730      1.333333\n",
              "max    13664.500000      0.784314     32.190476"
            ]
          },
          "metadata": {
            "tags": []
          },
          "execution_count": 77
        }
      ]
    },
    {
      "cell_type": "code",
      "metadata": {
        "id": "ExjPZpLVW79D",
        "colab_type": "code",
        "outputId": "4f69aedf-34e8-48ff-d784-bfd63b6447cb",
        "colab": {
          "base_uri": "https://localhost:8080/",
          "height": 297
        }
      },
      "source": [
        "new[new['coverage_bin']==\"medium\"].describe()"
      ],
      "execution_count": 0,
      "outputs": [
        {
          "output_type": "execute_result",
          "data": {
            "text/html": [
              "<div>\n",
              "<style scoped>\n",
              "    .dataframe tbody tr th:only-of-type {\n",
              "        vertical-align: middle;\n",
              "    }\n",
              "\n",
              "    .dataframe tbody tr th {\n",
              "        vertical-align: top;\n",
              "    }\n",
              "\n",
              "    .dataframe thead th {\n",
              "        text-align: right;\n",
              "    }\n",
              "</style>\n",
              "<table border=\"1\" class=\"dataframe\">\n",
              "  <thead>\n",
              "    <tr style=\"text-align: right;\">\n",
              "      <th></th>\n",
              "      <th>compression</th>\n",
              "      <th>coverage</th>\n",
              "      <th>density</th>\n",
              "    </tr>\n",
              "  </thead>\n",
              "  <tbody>\n",
              "    <tr>\n",
              "      <th>count</th>\n",
              "      <td>33925.000000</td>\n",
              "      <td>33925.000000</td>\n",
              "      <td>33925.000000</td>\n",
              "    </tr>\n",
              "    <tr>\n",
              "      <th>mean</th>\n",
              "      <td>39.535590</td>\n",
              "      <td>0.871193</td>\n",
              "      <td>5.827252</td>\n",
              "    </tr>\n",
              "    <tr>\n",
              "      <th>std</th>\n",
              "      <td>69.563647</td>\n",
              "      <td>0.046534</td>\n",
              "      <td>7.196672</td>\n",
              "    </tr>\n",
              "    <tr>\n",
              "      <th>min</th>\n",
              "      <td>0.954545</td>\n",
              "      <td>0.785714</td>\n",
              "      <td>0.785714</td>\n",
              "    </tr>\n",
              "    <tr>\n",
              "      <th>25%</th>\n",
              "      <td>14.666667</td>\n",
              "      <td>0.833333</td>\n",
              "      <td>1.666667</td>\n",
              "    </tr>\n",
              "    <tr>\n",
              "      <th>50%</th>\n",
              "      <td>28.769231</td>\n",
              "      <td>0.875000</td>\n",
              "      <td>2.625000</td>\n",
              "    </tr>\n",
              "    <tr>\n",
              "      <th>75%</th>\n",
              "      <td>48.555556</td>\n",
              "      <td>0.913043</td>\n",
              "      <td>6.777778</td>\n",
              "    </tr>\n",
              "    <tr>\n",
              "      <th>max</th>\n",
              "      <td>9383.846154</td>\n",
              "      <td>0.944310</td>\n",
              "      <td>70.500000</td>\n",
              "    </tr>\n",
              "  </tbody>\n",
              "</table>\n",
              "</div>"
            ],
            "text/plain": [
              "        compression      coverage       density\n",
              "count  33925.000000  33925.000000  33925.000000\n",
              "mean      39.535590      0.871193      5.827252\n",
              "std       69.563647      0.046534      7.196672\n",
              "min        0.954545      0.785714      0.785714\n",
              "25%       14.666667      0.833333      1.666667\n",
              "50%       28.769231      0.875000      2.625000\n",
              "75%       48.555556      0.913043      6.777778\n",
              "max     9383.846154      0.944310     70.500000"
            ]
          },
          "metadata": {
            "tags": []
          },
          "execution_count": 78
        }
      ]
    },
    {
      "cell_type": "code",
      "metadata": {
        "id": "FbGUpGt8W7xx",
        "colab_type": "code",
        "outputId": "f7972754-8b35-462d-ef39-310f197c93bf",
        "colab": {
          "base_uri": "https://localhost:8080/",
          "height": 297
        }
      },
      "source": [
        "new[new['coverage_bin']==\"high\"].describe()"
      ],
      "execution_count": 0,
      "outputs": [
        {
          "output_type": "execute_result",
          "data": {
            "text/html": [
              "<div>\n",
              "<style scoped>\n",
              "    .dataframe tbody tr th:only-of-type {\n",
              "        vertical-align: middle;\n",
              "    }\n",
              "\n",
              "    .dataframe tbody tr th {\n",
              "        vertical-align: top;\n",
              "    }\n",
              "\n",
              "    .dataframe thead th {\n",
              "        text-align: right;\n",
              "    }\n",
              "</style>\n",
              "<table border=\"1\" class=\"dataframe\">\n",
              "  <thead>\n",
              "    <tr style=\"text-align: right;\">\n",
              "      <th></th>\n",
              "      <th>compression</th>\n",
              "      <th>coverage</th>\n",
              "      <th>density</th>\n",
              "    </tr>\n",
              "  </thead>\n",
              "  <tbody>\n",
              "    <tr>\n",
              "      <th>count</th>\n",
              "      <td>34258.000000</td>\n",
              "      <td>34258.000000</td>\n",
              "      <td>34258.000000</td>\n",
              "    </tr>\n",
              "    <tr>\n",
              "      <th>mean</th>\n",
              "      <td>48.086566</td>\n",
              "      <td>0.984423</td>\n",
              "      <td>21.009772</td>\n",
              "    </tr>\n",
              "    <tr>\n",
              "      <th>std</th>\n",
              "      <td>495.373621</td>\n",
              "      <td>0.019286</td>\n",
              "      <td>16.978441</td>\n",
              "    </tr>\n",
              "    <tr>\n",
              "      <th>min</th>\n",
              "      <td>0.980769</td>\n",
              "      <td>0.944444</td>\n",
              "      <td>0.947368</td>\n",
              "    </tr>\n",
              "    <tr>\n",
              "      <th>25%</th>\n",
              "      <td>10.239204</td>\n",
              "      <td>0.966667</td>\n",
              "      <td>8.714286</td>\n",
              "    </tr>\n",
              "    <tr>\n",
              "      <th>50%</th>\n",
              "      <td>19.500000</td>\n",
              "      <td>1.000000</td>\n",
              "      <td>17.832816</td>\n",
              "    </tr>\n",
              "    <tr>\n",
              "      <th>75%</th>\n",
              "      <td>35.475564</td>\n",
              "      <td>1.000000</td>\n",
              "      <td>29.300000</td>\n",
              "    </tr>\n",
              "    <tr>\n",
              "      <th>max</th>\n",
              "      <td>42599.000000</td>\n",
              "      <td>1.000000</td>\n",
              "      <td>719.000000</td>\n",
              "    </tr>\n",
              "  </tbody>\n",
              "</table>\n",
              "</div>"
            ],
            "text/plain": [
              "        compression      coverage       density\n",
              "count  34258.000000  34258.000000  34258.000000\n",
              "mean      48.086566      0.984423     21.009772\n",
              "std      495.373621      0.019286     16.978441\n",
              "min        0.980769      0.944444      0.947368\n",
              "25%       10.239204      0.966667      8.714286\n",
              "50%       19.500000      1.000000     17.832816\n",
              "75%       35.475564      1.000000     29.300000\n",
              "max    42599.000000      1.000000    719.000000"
            ]
          },
          "metadata": {
            "tags": []
          },
          "execution_count": 79
        }
      ]
    },
    {
      "cell_type": "code",
      "metadata": {
        "id": "g8HBAJW8DVuH",
        "colab_type": "code",
        "outputId": "7544327a-67b4-4524-9619-4fa1d6ab3a83",
        "colab": {
          "base_uri": "https://localhost:8080/",
          "height": 731
        }
      },
      "source": [
        "random_medium['coverage_bin']"
      ],
      "execution_count": 0,
      "outputs": [
        {
          "output_type": "execute_result",
          "data": {
            "text/plain": [
              "0        low\n",
              "1       high\n",
              "2       high\n",
              "3     medium\n",
              "4     medium\n",
              "5       high\n",
              "6       high\n",
              "7       high\n",
              "8        low\n",
              "9        low\n",
              "10      high\n",
              "11       low\n",
              "12       low\n",
              "13      high\n",
              "14    medium\n",
              "15      high\n",
              "16    medium\n",
              "17    medium\n",
              "18    medium\n",
              "19    medium\n",
              "20      high\n",
              "21    medium\n",
              "22       low\n",
              "23    medium\n",
              "24       low\n",
              "25       low\n",
              "26    medium\n",
              "27      high\n",
              "28      high\n",
              "29      high\n",
              "30       low\n",
              "31       low\n",
              "32       low\n",
              "33    medium\n",
              "34      high\n",
              "35    medium\n",
              "36    medium\n",
              "37    medium\n",
              "38    medium\n",
              "39       low\n",
              "40       low\n",
              "Name: coverage_bin, dtype: object"
            ]
          },
          "metadata": {
            "tags": []
          },
          "execution_count": 65
        }
      ]
    },
    {
      "cell_type": "code",
      "metadata": {
        "id": "_dh83Y1EDb7o",
        "colab_type": "code",
        "colab": {}
      },
      "source": [
        ""
      ],
      "execution_count": 0,
      "outputs": []
    }
  ]
}